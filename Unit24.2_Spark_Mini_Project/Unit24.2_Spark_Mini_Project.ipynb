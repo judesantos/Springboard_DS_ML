{
 "cells": [
  {
   "cell_type": "markdown",
   "metadata": {
    "application/vnd.databricks.v1+cell": {
     "cellMetadata": {},
     "inputWidgets": {},
     "nuid": "3c97b0a2-00f9-46fa-8e3d-661a6a5ef59d",
     "showTitle": false,
     "tableResultSettingsMap": {},
     "title": ""
    }
   },
   "source": [
    "## Exercise Overview\n",
    "In this exercise we will play with Spark [Datasets & Dataframes](https://spark.apache.org/docs/latest/sql-programming-guide.html#datasets-and-dataframes), some [Spark SQL](https://spark.apache.org/docs/latest/sql-programming-guide.html#sql), and build a couple of binary classifiaction models using [Spark ML](https://spark.apache.org/docs/latest/ml-guide.html) (with some [MLlib](https://spark.apache.org/mllib/) too). \n",
    "<br><br>\n",
    "The set up and approach will not be too dissimilar to the standard type of approach you might do in [Sklearn](http://scikit-learn.org/stable/index.html). Spark has matured to the stage now where for 90% of what you need to do (when analysing tabular data) should be possible with Spark dataframes, SQL, and ML libraries. This is where this exercise is mainly trying to focus.  \n",
    "<br>\n",
    "Feel free to adapt this exercise to play with other datasets readily availabe in the Databricks enviornment (they are listed in a cell below). \n",
    "##### Getting Started\n",
    "To get started you will need to create and attach a databricks spark cluster to this notebook. This notebook was developed on a cluster created with: \n",
    "- Databricks Runtime Version 4.0 (includes Apache Spark 2.3.0, Scala 2.11)\n",
    "- Python Version 3\n",
    "\n",
    "##### Links & References\n",
    "\n",
    "Some useful links and references of sources used in creating this exercise:\n",
    "\n",
    "**Note**: Right click and open as new tab!\n",
    "<br>\n",
    "1. [Latest Spark Docs](https://spark.apache.org/docs/latest/index.html)\n",
    "1. [Databricks Homepage](https://databricks.com/)\n",
    "1. [Databricks Community Edition FAQ](https://databricks.com/product/faq/community-edition)\n",
    "1. [Databricks Self Paced Training](https://databricks.com/training-overview/training-self-paced)\n",
    "1. [Databricks Notebook Guide](https://docs.databricks.com/user-guide/notebooks/index.html)\n",
    "1. [Databricks Binary Classification Tutorial](https://docs.databricks.com/spark/latest/mllib/binary-classification-mllib-pipelines.html#binary-classification)\n"
   ]
  },
  {
   "cell_type": "markdown",
   "metadata": {
    "application/vnd.databricks.v1+cell": {
     "cellMetadata": {},
     "inputWidgets": {},
     "nuid": "695a1fed-7ad1-4a91-bd70-46e0275a793e",
     "showTitle": false,
     "tableResultSettingsMap": {},
     "title": ""
    }
   },
   "source": [
    "\n",
    "#### Get Data\n"
   ]
  },
  {
   "cell_type": "markdown",
   "metadata": {
    "application/vnd.databricks.v1+cell": {
     "cellMetadata": {},
     "inputWidgets": {},
     "nuid": "c7388cb6-bf4f-44d6-a7cd-50d35e20a22d",
     "showTitle": false,
     "tableResultSettingsMap": {},
     "title": ""
    }
   },
   "source": [
    "\n",
    "Lets take a look at the '**adult**' dataset on the filesystem. This is the typical US Census data you often see online in tutorials. [Here](https://archive.ics.uci.edu/ml/datasets/adult) is the same data in the UCI repository.\n",
    "\n",
    "_As an aside: [here](https://github.com/GoogleCloudPlatform/cloudml-samples/tree/master/census) this same dataset is used as a quickstart example for Google CLoud ML & Tensorflow Estimator API (in case youd be interested in playing with tensorflow on the same dataset as here)._ "
   ]
  },
  {
   "cell_type": "code",
   "execution_count": 164,
   "metadata": {},
   "outputs": [
    {
     "name": "stdout",
     "output_type": "stream",
     "text": [
      "\u001b[1m\u001b[33mIndex\u001b[m\u001b[m           \u001b[1m\u001b[33madult.data\u001b[m\u001b[m      \u001b[1m\u001b[33madult.names\u001b[m\u001b[m     \u001b[1m\u001b[33madult.test\u001b[m\u001b[m      \u001b[1m\u001b[33mold.adult.names\u001b[m\u001b[m\n"
     ]
    }
   ],
   "source": [
    "!ls data/"
   ]
  },
  {
   "cell_type": "markdown",
   "metadata": {},
   "source": [
    "#### Spark DataFrames\n",
    "Below we will create our DataFrame from the csv file data and do some analysis with Spark SQL but using the DataFrames API."
   ]
  },
  {
   "cell_type": "markdown",
   "metadata": {},
   "source": [
    "The following steps is a twist from the Databricks version where the data from the csv file is loaded straight into Spark SQL using sql magic.\n",
    "\n",
    "In the non Databricks version, we need to:\n",
    "\n",
    "- Create a spark session, \n",
    "- Load the data file into spark, then \n",
    "- Register the Spark dataframe as the SQL table source.\n",
    "\n",
    "Note: \n",
    "  - Intall pyspark (Standalone: No need to install Apache Spark)"
   ]
  },
  {
   "cell_type": "markdown",
   "metadata": {},
   "source": [
    "1. Create a Spark Session"
   ]
  },
  {
   "cell_type": "code",
   "execution_count": 165,
   "metadata": {},
   "outputs": [],
   "source": [
    "from pyspark.sql import SparkSession\n",
    "import logging\n",
    "logging.basicConfig(level=logging.ERROR)\n",
    "\n",
    "# Initialize SparkSession\n",
    "spark = SparkSession.builder \\\n",
    "    .appName(\"SparkSQLExample\") \\\n",
    "    .master(\"local[*]\") \\\n",
    "    .getOrCreate()\n",
    "\n",
    "# Set log level to ERROR to suppress lengthy warnings in the output.\n",
    "log4j = spark.sparkContext._jvm.org.apache.log4j\n",
    "log = log4j.LogManager.getLogger(\"org.apache.spark\")\n",
    "log.setLevel(log4j.Level.ERROR)"
   ]
  },
  {
   "cell_type": "markdown",
   "metadata": {},
   "source": [
    "2. Load the adult.data csv file into Spark"
   ]
  },
  {
   "cell_type": "code",
   "execution_count": 166,
   "metadata": {},
   "outputs": [],
   "source": [
    "# Path to your CSV file\n",
    "csv_file_path = \"data/adult.data\"\n",
    "\n",
    "# Load CSV into DataFrame\n",
    "adult_df = spark.read.csv(csv_file_path, header=False, inferSchema=True)\n",
    "\n",
    "# Insert column names\n",
    "columns = ['age', 'workclass', 'fnlwgt', 'education', 'education_num', 'marital_status', \n",
    "           'occupation', 'relationship', 'race', 'sex', 'capital_gain', 'capital_loss', \n",
    "           'hours_per_week', 'native_country', 'income']\n",
    "adult_df = adult_df.toDF(*columns)"
   ]
  },
  {
   "cell_type": "markdown",
   "metadata": {},
   "source": [
    "3. Register the dataframe as SQL data source"
   ]
  },
  {
   "cell_type": "markdown",
   "metadata": {},
   "source": [
    "You can easily register dataframes as a table for Spark SQL too. So this way you can easily move between Dataframes and Spark SQL for whatever reason. "
   ]
  },
  {
   "cell_type": "code",
   "execution_count": 167,
   "metadata": {},
   "outputs": [],
   "source": [
    "# Register the dataframe as a SQL Table\n",
    "adult_df.createOrReplaceTempView(\"adult\")"
   ]
  },
  {
   "cell_type": "code",
   "execution_count": 168,
   "metadata": {},
   "outputs": [],
   "source": [
    "# You can also register a df from spark\n",
    "adult_df = spark.table(\"adult\")\n",
    "cols = adult_df.columns # this will be used much later in the notebook, ignore for now"
   ]
  },
  {
   "cell_type": "code",
   "execution_count": 169,
   "metadata": {},
   "outputs": [
    {
     "name": "stdout",
     "output_type": "stream",
     "text": [
      "root\n",
      " |-- age: integer (nullable = true)\n",
      " |-- workclass: string (nullable = true)\n",
      " |-- fnlwgt: double (nullable = true)\n",
      " |-- education: string (nullable = true)\n",
      " |-- education_num: double (nullable = true)\n",
      " |-- marital_status: string (nullable = true)\n",
      " |-- occupation: string (nullable = true)\n",
      " |-- relationship: string (nullable = true)\n",
      " |-- race: string (nullable = true)\n",
      " |-- sex: string (nullable = true)\n",
      " |-- capital_gain: double (nullable = true)\n",
      " |-- capital_loss: double (nullable = true)\n",
      " |-- hours_per_week: double (nullable = true)\n",
      " |-- native_country: string (nullable = true)\n",
      " |-- income: string (nullable = true)\n",
      "\n"
     ]
    }
   ],
   "source": [
    "# look at df schema\n",
    "adult_df.printSchema()"
   ]
  },
  {
   "cell_type": "code",
   "execution_count": 170,
   "metadata": {},
   "outputs": [
    {
     "name": "stdout",
     "output_type": "stream",
     "text": [
      "+---+-----------------+--------+----------+-------------+-------------------+------------------+--------------+------+-------+------------+------------+--------------+--------------+------+\n",
      "|age|        workclass|  fnlwgt| education|education_num|     marital_status|        occupation|  relationship|  race|    sex|capital_gain|capital_loss|hours_per_week|native_country|income|\n",
      "+---+-----------------+--------+----------+-------------+-------------------+------------------+--------------+------+-------+------------+------------+--------------+--------------+------+\n",
      "| 39|        State-gov| 77516.0| Bachelors|         13.0|      Never-married|      Adm-clerical| Not-in-family| White|   Male|      2174.0|         0.0|          40.0| United-States| <=50K|\n",
      "| 50| Self-emp-not-inc| 83311.0| Bachelors|         13.0| Married-civ-spouse|   Exec-managerial|       Husband| White|   Male|         0.0|         0.0|          13.0| United-States| <=50K|\n",
      "| 38|          Private|215646.0|   HS-grad|          9.0|           Divorced| Handlers-cleaners| Not-in-family| White|   Male|         0.0|         0.0|          40.0| United-States| <=50K|\n",
      "| 53|          Private|234721.0|      11th|          7.0| Married-civ-spouse| Handlers-cleaners|       Husband| Black|   Male|         0.0|         0.0|          40.0| United-States| <=50K|\n",
      "| 28|          Private|338409.0| Bachelors|         13.0| Married-civ-spouse|    Prof-specialty|          Wife| Black| Female|         0.0|         0.0|          40.0|          Cuba| <=50K|\n",
      "+---+-----------------+--------+----------+-------------+-------------------+------------------+--------------+------+-------+------------+------------+--------------+--------------+------+\n",
      "only showing top 5 rows\n",
      "\n"
     ]
    }
   ],
   "source": [
    "# look at the df\n",
    "adult_df.show(5)"
   ]
  },
  {
   "cell_type": "markdown",
   "metadata": {
    "application/vnd.databricks.v1+cell": {
     "cellMetadata": {},
     "inputWidgets": {},
     "nuid": "84d3180c-0f4b-4375-8f97-7975ca99ef77",
     "showTitle": false,
     "tableResultSettingsMap": {},
     "title": ""
    }
   },
   "source": [
    "#### Spark SQL"
   ]
  },
  {
   "cell_type": "code",
   "execution_count": 171,
   "metadata": {
    "application/vnd.databricks.v1+cell": {
     "cellMetadata": {
      "byteLimit": 2048000,
      "rowLimit": 10000
     },
     "inputWidgets": {},
     "nuid": "b73f000c-7068-4d9c-a559-18dc7bda95f0",
     "showTitle": false,
     "tableResultSettingsMap": {},
     "title": ""
    }
   },
   "outputs": [
    {
     "name": "stdout",
     "output_type": "stream",
     "text": [
      "+---+-----------------+--------+----------+-------------+-------------------+------------------+--------------+------+-------+------------+------------+--------------+--------------+------+\n",
      "|age|        workclass|  fnlwgt| education|education_num|     marital_status|        occupation|  relationship|  race|    sex|capital_gain|capital_loss|hours_per_week|native_country|income|\n",
      "+---+-----------------+--------+----------+-------------+-------------------+------------------+--------------+------+-------+------------+------------+--------------+--------------+------+\n",
      "| 39|        State-gov| 77516.0| Bachelors|         13.0|      Never-married|      Adm-clerical| Not-in-family| White|   Male|      2174.0|         0.0|          40.0| United-States| <=50K|\n",
      "| 50| Self-emp-not-inc| 83311.0| Bachelors|         13.0| Married-civ-spouse|   Exec-managerial|       Husband| White|   Male|         0.0|         0.0|          13.0| United-States| <=50K|\n",
      "| 38|          Private|215646.0|   HS-grad|          9.0|           Divorced| Handlers-cleaners| Not-in-family| White|   Male|         0.0|         0.0|          40.0| United-States| <=50K|\n",
      "| 53|          Private|234721.0|      11th|          7.0| Married-civ-spouse| Handlers-cleaners|       Husband| Black|   Male|         0.0|         0.0|          40.0| United-States| <=50K|\n",
      "| 28|          Private|338409.0| Bachelors|         13.0| Married-civ-spouse|    Prof-specialty|          Wife| Black| Female|         0.0|         0.0|          40.0|          Cuba| <=50K|\n",
      "+---+-----------------+--------+----------+-------------+-------------------+------------------+--------------+------+-------+------------+------------+--------------+--------------+------+\n",
      "\n"
     ]
    }
   ],
   "source": [
    "# look at the data\n",
    "# this will look prettier in Databricks if you use display() instead\n",
    "sql_result = spark.sql(\"SELECT * FROM adult LIMIT 5\")\n",
    "\n",
    "sql_result.show()"
   ]
  },
  {
   "cell_type": "markdown",
   "metadata": {
    "application/vnd.databricks.v1+cell": {
     "cellMetadata": {},
     "inputWidgets": {},
     "nuid": "7b41c5e9-3101-41ba-a7e9-9e84399f3150",
     "showTitle": false,
     "tableResultSettingsMap": {},
     "title": ""
    }
   },
   "source": [
    "If you are more comfortable with SQL then as you can see below, its very easy to just get going with writing standard SQL type code to analyse your data, do data wrangling and create new dataframes. "
   ]
  },
  {
   "cell_type": "code",
   "execution_count": 172,
   "metadata": {
    "application/vnd.databricks.v1+cell": {
     "cellMetadata": {},
     "inputWidgets": {},
     "nuid": "1219e3d2-a3ff-4d81-b688-c6751f950822",
     "showTitle": false,
     "tableResultSettingsMap": {},
     "title": ""
    }
   },
   "outputs": [
    {
     "name": "stdout",
     "output_type": "stream",
     "text": [
      "+------------------+----+------------+----------+------------+--------------+-------------+\n",
      "|        occupation|   n|married_rate|widow_rate|divorce_rate|separated_rate|bachelor_rate|\n",
      "+------------------+----+------------+----------+------------+--------------+-------------+\n",
      "|    Prof-specialty|4140|        0.53|      0.02|        0.13|          0.02|          0.3|\n",
      "|      Craft-repair|4099|        0.64|      0.01|        0.11|          0.03|         0.21|\n",
      "|   Exec-managerial|4066|        0.61|      0.02|        0.15|          0.02|          0.2|\n",
      "|      Adm-clerical|3770|        0.28|      0.04|        0.22|          0.04|         0.42|\n",
      "|             Sales|3650|        0.47|      0.03|        0.12|          0.03|         0.36|\n",
      "|     Other-service|3295|        0.24|      0.05|        0.15|          0.06|          0.5|\n",
      "| Machine-op-inspct|2002|        0.51|      0.03|        0.14|          0.04|         0.29|\n",
      "|                 ?|1843|        0.36|      0.08|         0.1|          0.04|         0.42|\n",
      "|  Transport-moving|1597|        0.63|      0.02|        0.11|          0.02|         0.21|\n",
      "| Handlers-cleaners|1370|        0.36|      0.01|        0.09|          0.03|         0.51|\n",
      "|   Farming-fishing| 994|         0.6|      0.02|        0.06|          0.02|         0.29|\n",
      "|      Tech-support| 928|        0.44|      0.02|        0.15|          0.03|         0.36|\n",
      "|   Protective-serv| 649|         0.6|      0.01|        0.12|          0.02|         0.24|\n",
      "|   Priv-house-serv| 149|        0.13|      0.15|        0.19|          0.08|         0.45|\n",
      "|      Armed-Forces|   9|        0.33|       0.0|         0.0|           0.0|         0.67|\n",
      "+------------------+----+------------+----------+------------+--------------+-------------+\n",
      "\n"
     ]
    }
   ],
   "source": [
    "# Lets get some summary marital status rates by occupation\n",
    "sql_result = spark.sql(\n",
    "  \"\"\"\n",
    "  SELECT \n",
    "    occupation,\n",
    "    SUM(1) as n,\n",
    "    ROUND(AVG(if(LTRIM(marital_status) LIKE 'Married-%',1,0)),2) as married_rate,\n",
    "    ROUND(AVG(if(lower(marital_status) LIKE '%widow%',1,0)),2) as widow_rate,\n",
    "    ROUND(AVG(if(LTRIM(marital_status) = 'Divorced',1,0)),2) as divorce_rate,\n",
    "    ROUND(AVG(if(LTRIM(marital_status) = 'Separated',1,0)),2) as separated_rate,\n",
    "    ROUND(AVG(if(LTRIM(marital_status) = 'Never-married',1,0)),2) as bachelor_rate\n",
    "  FROM \n",
    "    adult \n",
    "  GROUP BY 1\n",
    "  ORDER BY n DESC\n",
    "  \"\"\")\n",
    "\n",
    "sql_result.show()"
   ]
  },
  {
   "cell_type": "markdown",
   "metadata": {},
   "source": [
    "Load our query result for the married rate by occupation into spark. "
   ]
  },
  {
   "cell_type": "code",
   "execution_count": 173,
   "metadata": {},
   "outputs": [],
   "source": [
    "sql_result.createOrReplaceTempView(\"top_married_rate_by_occupation\")"
   ]
  },
  {
   "cell_type": "markdown",
   "metadata": {},
   "source": [
    "You can now query the newly created table:"
   ]
  },
  {
   "cell_type": "code",
   "execution_count": 174,
   "metadata": {},
   "outputs": [
    {
     "name": "stdout",
     "output_type": "stream",
     "text": [
      "+----------------+----+------------+----------+------------+--------------+-------------+\n",
      "|      occupation|   n|married_rate|widow_rate|divorce_rate|separated_rate|bachelor_rate|\n",
      "+----------------+----+------------+----------+------------+--------------+-------------+\n",
      "|  Prof-specialty|4140|        0.53|      0.02|        0.13|          0.02|          0.3|\n",
      "|    Craft-repair|4099|        0.64|      0.01|        0.11|          0.03|         0.21|\n",
      "| Exec-managerial|4066|        0.61|      0.02|        0.15|          0.02|          0.2|\n",
      "|    Adm-clerical|3770|        0.28|      0.04|        0.22|          0.04|         0.42|\n",
      "|           Sales|3650|        0.47|      0.03|        0.12|          0.03|         0.36|\n",
      "+----------------+----+------------+----------+------------+--------------+-------------+\n",
      "only showing top 5 rows\n",
      "\n"
     ]
    }
   ],
   "source": [
    "\n",
    "spark.sql(\"SELECT * FROM top_married_rate_by_occupation\").show(5)"
   ]
  },
  {
   "cell_type": "markdown",
   "metadata": {
    "application/vnd.databricks.v1+cell": {
     "cellMetadata": {},
     "inputWidgets": {},
     "nuid": "24bbcd7e-55ec-4929-a898-09a27acf9269",
     "showTitle": false,
     "tableResultSettingsMap": {},
     "title": ""
    }
   },
   "source": [
    "#### <span style=\"color:darkblue\">Question 1</span>\n",
    "\n",
    "1. Write some spark sql to get the top 'bachelor_rate' by 'education' group?"
   ]
  },
  {
   "cell_type": "code",
   "execution_count": 175,
   "metadata": {
    "application/vnd.databricks.v1+cell": {
     "cellMetadata": {},
     "inputWidgets": {},
     "nuid": "964b6472-2d89-4158-b517-0955f1e3c587",
     "showTitle": false,
     "tableResultSettingsMap": {},
     "title": ""
    }
   },
   "outputs": [
    {
     "name": "stdout",
     "output_type": "stream",
     "text": [
      "+-------------+----+-------------+\n",
      "|    education|   n|bachelor_rate|\n",
      "+-------------+----+-------------+\n",
      "|         12th| 433|         0.54|\n",
      "|         11th|1175|          0.5|\n",
      "|    Preschool|  51|         0.43|\n",
      "| Some-college|7291|          0.4|\n",
      "|         10th| 933|         0.39|\n",
      "+-------------+----+-------------+\n",
      "only showing top 5 rows\n",
      "\n"
     ]
    }
   ],
   "source": [
    "### Question 1.1 Answer ###\n",
    "\n",
    "sql_result = spark.sql(\n",
    "  \"\"\"\n",
    "  SELECT \n",
    "  education,\n",
    "  SUM(1) as n,\n",
    "  ROUND(AVG(if(LTRIM(marital_status) = 'Never-married',1,0)),2) as bachelor_rate\n",
    "  FROM adult\n",
    "  GROUP BY 1\n",
    "  ORDER BY bachelor_rate DESC\n",
    "  \"\"\"\n",
    ") \n",
    "sql_result.show(5)"
   ]
  },
  {
   "cell_type": "markdown",
   "metadata": {
    "application/vnd.databricks.v1+cell": {
     "cellMetadata": {},
     "inputWidgets": {},
     "nuid": "c6f3c980-fda5-4a86-8a83-75846e041b74",
     "showTitle": false,
     "tableResultSettingsMap": {},
     "title": ""
    }
   },
   "source": [
    "Below we will do a similar calculation to what we did above but using the DataFrames API"
   ]
  },
  {
   "cell_type": "code",
   "execution_count": 176,
   "metadata": {
    "application/vnd.databricks.v1+cell": {
     "cellMetadata": {},
     "inputWidgets": {},
     "nuid": "460c47b6-0405-4ce6-8015-39625fbc514a",
     "showTitle": false,
     "tableResultSettingsMap": {},
     "title": ""
    }
   },
   "outputs": [
    {
     "name": "stdout",
     "output_type": "stream",
     "text": [
      "+----------------+-------------+\n",
      "|      occupation|divorced_rate|\n",
      "+----------------+-------------+\n",
      "|    Adm-clerical|         0.22|\n",
      "| Priv-house-serv|         0.19|\n",
      "| Exec-managerial|         0.15|\n",
      "|    Tech-support|         0.15|\n",
      "|   Other-service|         0.15|\n",
      "+----------------+-------------+\n",
      "only showing top 5 rows\n",
      "\n"
     ]
    }
   ],
   "source": [
    "# import what we will need\n",
    "from pyspark.sql.functions import when, col, mean, desc, round\n",
    "\n",
    "# wrangle the data a bit\n",
    "result_df = adult_df.select(\n",
    "  adult_df['occupation'], \n",
    "  # create a 1/0 type col on the fly\n",
    "  when( col('marital_status') == ' Divorced' , 1 ).otherwise(0).alias('is_divorced')\n",
    ")\n",
    "# do grouping (and a round)\n",
    "result_df = result_df.groupBy('occupation').agg(round(mean('is_divorced'),2).alias('divorced_rate'))\n",
    "# do ordering\n",
    "result_df = result_df.orderBy(desc('divorced_rate'))\n",
    "# show results\n",
    "result_df.show(5)"
   ]
  },
  {
   "cell_type": "markdown",
   "metadata": {
    "application/vnd.databricks.v1+cell": {
     "cellMetadata": {},
     "inputWidgets": {},
     "nuid": "2e688a7f-a03c-4c74-94ae-42d999aca3bc",
     "showTitle": false,
     "tableResultSettingsMap": {},
     "title": ""
    }
   },
   "source": [
    "As you can see the dataframes api is a bit more verbose then just expressing what you want to do in standard SQL.<br><br>But some prefer it and might be more used to it, and there could be cases where expressing what you need to do might just be better using the DataFrame API if it is too complicated for a simple SQL expression for example of maybe involves recursion of some type.  "
   ]
  },
  {
   "cell_type": "markdown",
   "metadata": {
    "application/vnd.databricks.v1+cell": {
     "cellMetadata": {},
     "inputWidgets": {},
     "nuid": "252f073d-4272-4703-886a-4b37c9cd47f6",
     "showTitle": false,
     "tableResultSettingsMap": {},
     "title": ""
    }
   },
   "source": [
    "#### <span style=\"color:darkblue\">Question 2</span>\n",
    "1. Write some pyspark to get the top 'bachelor_rate' by 'education' group using DataFrame operations?"
   ]
  },
  {
   "cell_type": "code",
   "execution_count": 177,
   "metadata": {
    "application/vnd.databricks.v1+cell": {
     "cellMetadata": {},
     "inputWidgets": {},
     "nuid": "7d5c2957-a783-47ec-bcfd-a769ba0cf294",
     "showTitle": false,
     "tableResultSettingsMap": {},
     "title": ""
    }
   },
   "outputs": [
    {
     "name": "stdout",
     "output_type": "stream",
     "text": [
      "+---------+-------------+-------------+\n",
      "|education|count(1 AS n)|bachelor_rate|\n",
      "+---------+-------------+-------------+\n",
      "|     12th|          433|         0.54|\n",
      "+---------+-------------+-------------+\n",
      "only showing top 1 row\n",
      "\n"
     ]
    }
   ],
   "source": [
    "from pyspark.sql import functions as F\n",
    "### Question 2.1 Answer ###\n",
    "\n",
    "result_df = adult_df.groupBy('education').agg(\n",
    "  F.count(F.lit(1).alias('n')),\n",
    "  F.round(F.avg(F.when(F.trim(adult_df['marital_status']) == 'Never-married', 1).otherwise(0)), 2).alias('bachelor_rate')\n",
    ").orderBy(F.col('bachelor_rate').desc())\n",
    "\n",
    "result_df.show(1)"
   ]
  },
  {
   "cell_type": "markdown",
   "metadata": {
    "application/vnd.databricks.v1+cell": {
     "cellMetadata": {},
     "inputWidgets": {},
     "nuid": "99f244c2-4b2e-4727-8c65-66cbd75a69f8",
     "showTitle": false,
     "tableResultSettingsMap": {},
     "title": ""
    }
   },
   "source": [
    "#### Explore & Visualize Data\n",
    "It's very easy to [collect()](https://spark.apache.org/docs/latest/rdd-programming-guide.html#printing-elements-of-an-rdd) your Spark DataFrame data into a Pandas df and then continue to analyse or plot as you might normally.\n",
    "<br><br>\n",
    "Obviously if you try to collect() a huge DataFrame then you will run into issues, so usually you would only collect aggregated or sampled data into a Pandas df. "
   ]
  },
  {
   "cell_type": "code",
   "execution_count": 178,
   "metadata": {
    "application/vnd.databricks.v1+cell": {
     "cellMetadata": {},
     "inputWidgets": {},
     "nuid": "7640afab-8c43-46e2-91c6-43b5834e1a23",
     "showTitle": false,
     "tableResultSettingsMap": {},
     "title": ""
    }
   },
   "outputs": [
    {
     "name": "stdout",
     "output_type": "stream",
     "text": [
      "         occupation  plus_50k\n",
      "0   Exec-managerial  0.484014\n",
      "1    Prof-specialty  0.449034\n",
      "2   Protective-serv  0.325116\n",
      "3      Tech-support  0.304957\n",
      "4             Sales  0.269315\n"
     ]
    }
   ],
   "source": [
    "import pandas as pd\n",
    "\n",
    "# do some analysis\n",
    "result = spark.sql(\n",
    "  \"\"\"\n",
    "  SELECT \n",
    "    occupation,\n",
    "    AVG(IF(income = ' >50K',1,0)) as plus_50k\n",
    "  FROM \n",
    "    adult \n",
    "  GROUP BY 1\n",
    "  ORDER BY 2 DESC\n",
    "  \"\"\")\n",
    "\n",
    "# collect results into a pandas df\n",
    "df_pandas = pd.DataFrame(\n",
    "  result.collect(),\n",
    "  columns=result.schema.names\n",
    ")\n",
    "\n",
    "# look at df\n",
    "print(df_pandas.head())"
   ]
  },
  {
   "cell_type": "code",
   "execution_count": 179,
   "metadata": {
    "application/vnd.databricks.v1+cell": {
     "cellMetadata": {},
     "inputWidgets": {},
     "nuid": "5e7e5b12-632a-4dd9-b66b-6fb03ea902d4",
     "showTitle": false,
     "tableResultSettingsMap": {},
     "title": ""
    }
   },
   "outputs": [
    {
     "name": "stdout",
     "output_type": "stream",
     "text": [
      "        plus_50k\n",
      "count  15.000000\n",
      "mean    0.197354\n",
      "std     0.143994\n",
      "min     0.006711\n",
      "25%     0.107373\n",
      "50%     0.134483\n",
      "75%     0.287136\n",
      "max     0.484014\n"
     ]
    }
   ],
   "source": [
    "print(df_pandas.describe())"
   ]
  },
  {
   "cell_type": "code",
   "execution_count": 180,
   "metadata": {
    "application/vnd.databricks.v1+cell": {
     "cellMetadata": {},
     "inputWidgets": {},
     "nuid": "a71f0594-35e9-480b-b3c9-7793765e3af2",
     "showTitle": false,
     "tableResultSettingsMap": {},
     "title": ""
    }
   },
   "outputs": [
    {
     "name": "stdout",
     "output_type": "stream",
     "text": [
      "<class 'pandas.core.frame.DataFrame'>\n",
      "RangeIndex: 15 entries, 0 to 14\n",
      "Data columns (total 2 columns):\n",
      " #   Column      Non-Null Count  Dtype  \n",
      "---  ------      --------------  -----  \n",
      " 0   occupation  15 non-null     object \n",
      " 1   plus_50k    15 non-null     float64\n",
      "dtypes: float64(1), object(1)\n",
      "memory usage: 372.0+ bytes\n",
      "None\n"
     ]
    }
   ],
   "source": [
    "print(df_pandas.info())"
   ]
  },
  {
   "cell_type": "markdown",
   "metadata": {
    "application/vnd.databricks.v1+cell": {
     "cellMetadata": {},
     "inputWidgets": {},
     "nuid": "b1090b4c-4789-4b83-84c7-6150b8158026",
     "showTitle": false,
     "tableResultSettingsMap": {},
     "title": ""
    }
   },
   "source": [
    "Here we will just do some very basic plotting to show how you might collect what you are interested in into a Pandas DF and then just plot any way you normally would.\n",
    "\n",
    "For simplicity we are going to use the plotting functionality built into pandas (you could make this a pretty as you want). "
   ]
  },
  {
   "cell_type": "code",
   "execution_count": 181,
   "metadata": {
    "application/vnd.databricks.v1+cell": {
     "cellMetadata": {},
     "inputWidgets": {},
     "nuid": "946501d8-b915-4fbd-b9cb-a0a31a802078",
     "showTitle": false,
     "tableResultSettingsMap": {},
     "title": ""
    }
   },
   "outputs": [
    {
     "data": {
      "image/png": "[encoded data removed]",
      "text/plain": [
       "<Figure size 640x480 with 1 Axes>"
      ]
     },
     "metadata": {},
     "output_type": "display_data"
    },
    {
     "data": {
      "image/png": "[encoded data removed]",
      "text/plain": [
       "<Figure size 640x480 with 1 Axes>"
      ]
     },
     "metadata": {},
     "output_type": "display_data"
    }
   ],
   "source": [
    "import matplotlib.pyplot as plt\n",
    "\n",
    "# i like ggplot style\n",
    "plt.style.use('ggplot')\n",
    "\n",
    "# get simple plot on the pandas data\n",
    "myplot = df_pandas.plot(kind='barh', x='occupation', y='plus_50k')\n",
    "\n",
    "# display the plot (note - display() is a databricks function - \n",
    "# more info on plotting in Databricks is here: https://docs.databricks.com/user-guide/visualizations/matplotlib-and-ggplot.html)\n",
    "display(myplot.figure)"
   ]
  },
  {
   "cell_type": "markdown",
   "metadata": {
    "application/vnd.databricks.v1+cell": {
     "cellMetadata": {},
     "inputWidgets": {},
     "nuid": "1c9aafee-4f84-4f93-96ac-70a73bc2a588",
     "showTitle": false,
     "tableResultSettingsMap": {},
     "title": ""
    }
   },
   "source": [
    "You can also easily get summary stats on a Spark DataFrame like below. [Here](https://databricks.com/blog/2015/06/02/statistical-and-mathematical-functions-with-dataframes-in-spark.html) is a nice blog post that has more examples.<br><br>So this is an example of why you might want to move from Spark SQL into DataFrames API as being able to just call describe() on the Spark DF is easier then trying to do the equivilant in Spark SQL.  "
   ]
  },
  {
   "cell_type": "code",
   "execution_count": 182,
   "metadata": {
    "application/vnd.databricks.v1+cell": {
     "cellMetadata": {},
     "inputWidgets": {},
     "nuid": "b2fa9c46-ff91-4424-ad28-9dd4f74f078e",
     "showTitle": false,
     "tableResultSettingsMap": {},
     "title": ""
    }
   },
   "outputs": [
    {
     "name": "stdout",
     "output_type": "stream",
     "text": [
      "+-------+------------------+-----------------+\n",
      "|summary|               age|    education_num|\n",
      "+-------+------------------+-----------------+\n",
      "|  count|             32561|            32561|\n",
      "|   mean| 38.58164675532078| 10.0806793403151|\n",
      "| stddev|13.640432553581356|2.572720332067397|\n",
      "|    min|                17|              1.0|\n",
      "|    max|                90|             16.0|\n",
      "+-------+------------------+-----------------+\n",
      "\n"
     ]
    }
   ],
   "source": [
    "# describe df\n",
    "adult_df.select(adult_df['age'],adult_df['education_num']).describe().show()"
   ]
  },
  {
   "cell_type": "markdown",
   "metadata": {
    "application/vnd.databricks.v1+cell": {
     "cellMetadata": {},
     "inputWidgets": {},
     "nuid": "3e7bfbde-68e3-47a3-9f3e-278bce83808b",
     "showTitle": false,
     "tableResultSettingsMap": {},
     "title": ""
    }
   },
   "source": [
    "\n",
    "### ML Pipeline - Logistic Regression vs Random Forest\n",
    "\n",
    "Below we will create two [Spark ML Pipelines](https://spark.apache.org/docs/latest/ml-pipeline.html) - one that fits a logistic regression and one that fits a random forest. We will then compare the performance of each.\n",
    "\n",
    "**Note**: A lot of the code below is adapted from [this example](https://docs.databricks.com/spark/latest/mllib/binary-classification-mllib-pipelines.html)."
   ]
  },
  {
   "cell_type": "code",
   "execution_count": 183,
   "metadata": {
    "application/vnd.databricks.v1+cell": {
     "cellMetadata": {},
     "inputWidgets": {},
     "nuid": "73a32ba3-ff2c-4ca0-91ca-8e6187f24363",
     "showTitle": false,
     "tableResultSettingsMap": {},
     "title": ""
    }
   },
   "outputs": [],
   "source": [
    "from pyspark.ml import Pipeline\n",
    "from pyspark.ml.feature import OneHotEncoder, StringIndexer, VectorAssembler\n",
    "\n",
    "categoricalColumns = [\"workclass\", \"education\", \"marital_status\", \"occupation\", \"relationship\", \"race\", \"sex\", \"native_country\"]\n",
    "stages = [] # stages in our Pipeline\n",
    "\n",
    "for categoricalCol in categoricalColumns:\n",
    "    # Category Indexing with StringIndexer\n",
    "    stringIndexer = StringIndexer(inputCol=categoricalCol, outputCol=categoricalCol + \"Index\")\n",
    "    # Use OneHotEncoder to convert categorical variables into binary SparseVectors\n",
    "    # encoder = OneHotEncoderEstimator(inputCol=categoricalCol + \"Index\", outputCol=categoricalCol + \"classVec\")\n",
    "    encoder = OneHotEncoder(inputCols=[stringIndexer.getOutputCol()], outputCols=[categoricalCol + \"classVec\"])\n",
    "    # Add stages.  These are not run here, but will run all at once later on.\n",
    "    stages += [stringIndexer, encoder]"
   ]
  },
  {
   "cell_type": "code",
   "execution_count": 184,
   "metadata": {
    "application/vnd.databricks.v1+cell": {
     "cellMetadata": {},
     "inputWidgets": {},
     "nuid": "f2657356-694c-4a30-80bd-02ede201a55c",
     "showTitle": false,
     "tableResultSettingsMap": {},
     "title": ""
    }
   },
   "outputs": [],
   "source": [
    "# Convert label into label indices using the StringIndexer\n",
    "label_stringIdx = StringIndexer(inputCol=\"income\", outputCol=\"label\")\n",
    "stages += [label_stringIdx]"
   ]
  },
  {
   "cell_type": "code",
   "execution_count": 185,
   "metadata": {
    "application/vnd.databricks.v1+cell": {
     "cellMetadata": {},
     "inputWidgets": {},
     "nuid": "5a2fa539-5109-4b69-bc89-e7a7439a1469",
     "showTitle": false,
     "tableResultSettingsMap": {},
     "title": ""
    }
   },
   "outputs": [],
   "source": [
    "# Transform all features into a vector using VectorAssembler\n",
    "numericCols = [\"age\", \"fnlwgt\", \"education_num\", \"capital_gain\", \"capital_loss\", \"hours_per_week\"]\n",
    "assemblerInputs = [c + \"classVec\" for c in categoricalColumns] + numericCols\n",
    "assembler = VectorAssembler(inputCols=assemblerInputs, outputCol=\"features\")\n",
    "stages += [assembler]"
   ]
  },
  {
   "cell_type": "code",
   "execution_count": 186,
   "metadata": {
    "application/vnd.databricks.v1+cell": {
     "cellMetadata": {},
     "inputWidgets": {},
     "nuid": "c96a56cc-57f4-4c4b-856e-f2e5701e95fe",
     "showTitle": false,
     "tableResultSettingsMap": {},
     "title": ""
    }
   },
   "outputs": [
    {
     "name": "stdout",
     "output_type": "stream",
     "text": [
      "+-----+--------------------+---+-----------------+--------+-------------+-------------+--------------------+------------------+--------------+-------------------+-------+------------+------------+--------------+--------------+------+\n",
      "|label|            features|age|        workclass|  fnlwgt|    education|education_num|      marital_status|        occupation|  relationship|               race|    sex|capital_gain|capital_loss|hours_per_week|native_country|income|\n",
      "+-----+--------------------+---+-----------------+--------+-------------+-------------+--------------------+------------------+--------------+-------------------+-------+------------+------------+--------------+--------------+------+\n",
      "|  0.0|(100,[4,10,24,32,...| 39|        State-gov| 77516.0|    Bachelors|         13.0|       Never-married|      Adm-clerical| Not-in-family|              White|   Male|      2174.0|         0.0|          40.0| United-States| <=50K|\n",
      "|  0.0|(100,[1,10,23,31,...| 50| Self-emp-not-inc| 83311.0|    Bachelors|         13.0|  Married-civ-spouse|   Exec-managerial|       Husband|              White|   Male|         0.0|         0.0|          13.0| United-States| <=50K|\n",
      "|  0.0|(100,[0,8,25,38,4...| 38|          Private|215646.0|      HS-grad|          9.0|            Divorced| Handlers-cleaners| Not-in-family|              White|   Male|         0.0|         0.0|          40.0| United-States| <=50K|\n",
      "|  0.0|(100,[0,13,23,38,...| 53|          Private|234721.0|         11th|          7.0|  Married-civ-spouse| Handlers-cleaners|       Husband|              Black|   Male|         0.0|         0.0|          40.0| United-States| <=50K|\n",
      "|  0.0|(100,[0,10,23,29,...| 28|          Private|338409.0|    Bachelors|         13.0|  Married-civ-spouse|    Prof-specialty|          Wife|              Black| Female|         0.0|         0.0|          40.0|          Cuba| <=50K|\n",
      "|  0.0|(100,[0,11,23,31,...| 37|          Private|284582.0|      Masters|         14.0|  Married-civ-spouse|   Exec-managerial|          Wife|              White| Female|         0.0|         0.0|          40.0| United-States| <=50K|\n",
      "|  0.0|(100,[0,18,28,34,...| 49|          Private|160187.0|          9th|          5.0| Married-spouse-a...|     Other-service| Not-in-family|              Black| Female|         0.0|         0.0|          16.0|       Jamaica| <=50K|\n",
      "|  1.0|(100,[1,8,23,31,4...| 52| Self-emp-not-inc|209642.0|      HS-grad|          9.0|  Married-civ-spouse|   Exec-managerial|       Husband|              White|   Male|         0.0|         0.0|          45.0| United-States|  >50K|\n",
      "|  1.0|(100,[0,11,24,29,...| 31|          Private| 45781.0|      Masters|         14.0|       Never-married|    Prof-specialty| Not-in-family|              White| Female|     14084.0|         0.0|          50.0| United-States|  >50K|\n",
      "|  1.0|(100,[0,10,23,31,...| 42|          Private|159449.0|    Bachelors|         13.0|  Married-civ-spouse|   Exec-managerial|       Husband|              White|   Male|      5178.0|         0.0|          40.0| United-States|  >50K|\n",
      "|  1.0|(100,[0,9,23,31,4...| 37|          Private|280464.0| Some-college|         10.0|  Married-civ-spouse|   Exec-managerial|       Husband|              Black|   Male|         0.0|         0.0|          80.0| United-States|  >50K|\n",
      "|  1.0|(100,[4,10,23,29,...| 30|        State-gov|141297.0|    Bachelors|         13.0|  Married-civ-spouse|    Prof-specialty|       Husband| Asian-Pac-Islander|   Male|         0.0|         0.0|          40.0|         India|  >50K|\n",
      "|  0.0|(100,[0,10,24,32,...| 23|          Private|122272.0|    Bachelors|         13.0|       Never-married|      Adm-clerical|     Own-child|              White| Female|         0.0|         0.0|          30.0| United-States| <=50K|\n",
      "|  0.0|(100,[0,14,24,33,...| 32|          Private|205019.0|   Assoc-acdm|         12.0|       Never-married|             Sales| Not-in-family|              Black|   Male|         0.0|         0.0|          50.0| United-States| <=50K|\n",
      "|  1.0|(100,[0,12,23,30,...| 40|          Private|121772.0|    Assoc-voc|         11.0|  Married-civ-spouse|      Craft-repair|       Husband| Asian-Pac-Islander|   Male|         0.0|         0.0|          40.0|             ?|  >50K|\n",
      "|  0.0|(100,[0,16,23,37,...| 34|          Private|245487.0|      7th-8th|          4.0|  Married-civ-spouse|  Transport-moving|       Husband| Amer-Indian-Eskimo|   Male|         0.0|         0.0|          45.0|        Mexico| <=50K|\n",
      "|  0.0|(100,[1,8,24,39,4...| 25| Self-emp-not-inc|176756.0|      HS-grad|          9.0|       Never-married|   Farming-fishing|     Own-child|              White|   Male|         0.0|         0.0|          35.0| United-States| <=50K|\n",
      "|  0.0|(100,[0,8,24,35,4...| 32|          Private|186824.0|      HS-grad|          9.0|       Never-married| Machine-op-inspct|     Unmarried|              White|   Male|         0.0|         0.0|          40.0| United-States| <=50K|\n",
      "|  0.0|(100,[0,13,23,33,...| 38|          Private| 28887.0|         11th|          7.0|  Married-civ-spouse|             Sales|       Husband|              White|   Male|         0.0|         0.0|          50.0| United-States| <=50K|\n",
      "|  1.0|(100,[1,11,25,31,...| 43| Self-emp-not-inc|292175.0|      Masters|         14.0|            Divorced|   Exec-managerial|     Unmarried|              White| Female|         0.0|         0.0|          45.0| United-States|  >50K|\n",
      "+-----+--------------------+---+-----------------+--------+-------------+-------------+--------------------+------------------+--------------+-------------------+-------+------------+------------+--------------+--------------+------+\n",
      "only showing top 20 rows\n",
      "\n"
     ]
    }
   ],
   "source": [
    "# Create a Pipeline.\n",
    "pipeline = Pipeline(stages=stages)\n",
    "# Run the feature transformations.\n",
    "#  - fit() computes feature statistics as needed.\n",
    "#  - transform() actually transforms the features.\n",
    "pipelineModel = pipeline.fit(adult_df)\n",
    "dataset = pipelineModel.transform(adult_df)\n",
    "# Keep relevant columns\n",
    "selectedcols = [\"label\", \"features\"] + cols\n",
    "dataset = dataset.select(selectedcols)\n",
    "\n",
    "dataset.show()"
   ]
  },
  {
   "cell_type": "code",
   "execution_count": 187,
   "metadata": {
    "application/vnd.databricks.v1+cell": {
     "cellMetadata": {},
     "inputWidgets": {},
     "nuid": "0a5e74a5-dff1-45a3-9155-b9944d95e9aa",
     "showTitle": false,
     "tableResultSettingsMap": {},
     "title": ""
    }
   },
   "outputs": [
    {
     "name": "stdout",
     "output_type": "stream",
     "text": [
      "22832\n",
      "9729\n"
     ]
    }
   ],
   "source": [
    "### Randomly split data into training and test sets. set seed for reproducibility\n",
    "(trainingData, testData) = dataset.randomSplit([0.7, 0.3], seed=100)\n",
    "print(trainingData.count())\n",
    "print(testData.count())"
   ]
  },
  {
   "cell_type": "code",
   "execution_count": 188,
   "metadata": {
    "application/vnd.databricks.v1+cell": {
     "cellMetadata": {},
     "inputWidgets": {},
     "nuid": "c8de9b08-6ff6-4b6a-b67f-a78f2db52ccf",
     "showTitle": false,
     "tableResultSettingsMap": {},
     "title": ""
    }
   },
   "outputs": [
    {
     "name": "stdout",
     "output_type": "stream",
     "text": [
      "Positive rate in the training data is 0.23988262088297127\n"
     ]
    }
   ],
   "source": [
    "from pyspark.sql.functions import avg\n",
    "\n",
    "# get the rate of the positive outcome from the training data to use as a threshold in the model\n",
    "training_data_positive_rate = trainingData.select(avg(trainingData['label'])).collect()[0][0] \n",
    "\n",
    "print(\"Positive rate in the training data is {}\".format(training_data_positive_rate))"
   ]
  },
  {
   "cell_type": "markdown",
   "metadata": {
    "application/vnd.databricks.v1+cell": {
     "cellMetadata": {},
     "inputWidgets": {},
     "nuid": "5fb85c94-76bc-42aa-82b4-d00e6369e6bc",
     "showTitle": false,
     "tableResultSettingsMap": {},
     "title": ""
    }
   },
   "source": [
    "\n",
    "#### Logistic Regression - Train"
   ]
  },
  {
   "cell_type": "code",
   "execution_count": 189,
   "metadata": {
    "application/vnd.databricks.v1+cell": {
     "cellMetadata": {},
     "inputWidgets": {},
     "nuid": "06e5691c-1522-4b7e-a914-57b1bfa7a3a5",
     "showTitle": false,
     "tableResultSettingsMap": {},
     "title": ""
    }
   },
   "outputs": [
    {
     "name": "stdout",
     "output_type": "stream",
     "text": [
      "Best threshold based on model performance on training data is 0.33643403980086317\n"
     ]
    }
   ],
   "source": [
    "from pyspark.ml.classification import LogisticRegression\n",
    "\n",
    "# Create initial LogisticRegression model\n",
    "lr = LogisticRegression(labelCol=\"label\", featuresCol=\"features\", maxIter=10)\n",
    "\n",
    "# set threshold for the probability above which to predict a 1\n",
    "lr.setThreshold(training_data_positive_rate)\n",
    "# lr.setThreshold(0.5) # could use this if knew you had balanced data\n",
    "\n",
    "# Train model with Training Data\n",
    "lrModel = lr.fit(trainingData)\n",
    "\n",
    "# get training summary used for eval metrics and other params\n",
    "lrTrainingSummary = lrModel.summary\n",
    "\n",
    "# Find the best model threshold if you would like to use that instead of the empirical positve rate\n",
    "fMeasure = lrTrainingSummary.fMeasureByThreshold\n",
    "maxFMeasure = fMeasure.groupBy().max('F-Measure').select('max(F-Measure)').head()\n",
    "lrBestThreshold = fMeasure.where(fMeasure['F-Measure'] == maxFMeasure['max(F-Measure)']) \\\n",
    "    .select('threshold').head()['threshold']\n",
    "  \n",
    "print(\"Best threshold based on model performance on training data is {}\".format(lrBestThreshold))"
   ]
  },
  {
   "cell_type": "markdown",
   "metadata": {
    "application/vnd.databricks.v1+cell": {
     "cellMetadata": {},
     "inputWidgets": {},
     "nuid": "50f512e9-7d60-427d-8f17-530e08639605",
     "showTitle": false,
     "tableResultSettingsMap": {},
     "title": ""
    }
   },
   "source": [
    "#### GBM - Train"
   ]
  },
  {
   "cell_type": "markdown",
   "metadata": {
    "application/vnd.databricks.v1+cell": {
     "cellMetadata": {},
     "inputWidgets": {},
     "nuid": "e4b1128b-d223-4d3d-b202-5ad887e9cda3",
     "showTitle": false,
     "tableResultSettingsMap": {},
     "title": ""
    }
   },
   "source": [
    "#### <span style=\"color:darkblue\">Question 3</span>\n",
    "1. Train a GBTClassifier on the training data, call the trained model 'gbModel'"
   ]
  },
  {
   "cell_type": "code",
   "execution_count": 190,
   "metadata": {
    "application/vnd.databricks.v1+cell": {
     "cellMetadata": {},
     "inputWidgets": {},
     "nuid": "998d8fa4-1162-4f46-bd6a-40d05beadf31",
     "showTitle": false,
     "tableResultSettingsMap": {},
     "title": ""
    }
   },
   "outputs": [],
   "source": [
    "from pyspark.ml.classification import GBTClassifier\n",
    "\n",
    "### Question 3.1 Answer ###\n",
    "\n",
    "# Create GBTClassifier model\n",
    "gb = GBTClassifier(labelCol='label', featuresCol='features')\n",
    "\n",
    "# Train model with Training Data\n",
    "gbModel = gb.fit(trainingData)"
   ]
  },
  {
   "cell_type": "markdown",
   "metadata": {
    "application/vnd.databricks.v1+cell": {
     "cellMetadata": {},
     "inputWidgets": {},
     "nuid": "f52bee49-0815-4252-a35f-d6a9b8b52be2",
     "showTitle": false,
     "tableResultSettingsMap": {},
     "title": ""
    }
   },
   "source": [
    "\n",
    "#### Logistic Regression - Predict"
   ]
  },
  {
   "cell_type": "code",
   "execution_count": 191,
   "metadata": {
    "application/vnd.databricks.v1+cell": {
     "cellMetadata": {},
     "inputWidgets": {},
     "nuid": "6cb54547-1466-46ac-81bc-a9ae5d32dc5c",
     "showTitle": false,
     "tableResultSettingsMap": {},
     "title": ""
    }
   },
   "outputs": [
    {
     "name": "stdout",
     "output_type": "stream",
     "text": [
      "+-----+----------+--------------------+\n",
      "|label|prediction|         probability|\n",
      "+-----+----------+--------------------+\n",
      "|  0.0|       1.0|[0.16646708724833...|\n",
      "|  0.0|       1.0|[0.70012031106347...|\n",
      "|  0.0|       1.0|[0.53453682932966...|\n",
      "|  0.0|       1.0|[0.67559303222185...|\n",
      "|  0.0|       1.0|[0.62237992652147...|\n",
      "|  0.0|       1.0|[0.61047384917734...|\n",
      "|  0.0|       1.0|[0.60270631574160...|\n",
      "|  0.0|       1.0|[0.60470503143804...|\n",
      "|  0.0|       1.0|[0.74230866284293...|\n",
      "|  0.0|       0.0|[0.98954486365582...|\n",
      "|  0.0|       1.0|[0.35443820573118...|\n",
      "|  0.0|       1.0|[0.52012311192879...|\n",
      "|  0.0|       1.0|[0.57001207297900...|\n",
      "|  0.0|       1.0|[0.72429051822755...|\n",
      "|  0.0|       1.0|[0.65121742871644...|\n",
      "|  0.0|       1.0|[0.66775456351897...|\n",
      "|  0.0|       1.0|[0.52371842805163...|\n",
      "|  0.0|       1.0|[0.36773833412271...|\n",
      "|  0.0|       1.0|[0.48770095744495...|\n",
      "|  0.0|       1.0|[0.32713602186495...|\n",
      "+-----+----------+--------------------+\n",
      "only showing top 20 rows\n",
      "\n"
     ]
    }
   ],
   "source": [
    "# make predictions on test data\n",
    "lrPredictions = lrModel.transform(testData)\n",
    "\n",
    "# display predictions\n",
    "result_df = lrPredictions.select(\"label\", \"prediction\", \"probability\")\n",
    "\n",
    "result_df.show()"
   ]
  },
  {
   "cell_type": "markdown",
   "metadata": {
    "application/vnd.databricks.v1+cell": {
     "cellMetadata": {},
     "inputWidgets": {},
     "nuid": "c2b53bb9-d298-4af9-bdc8-fd94a5f0b388",
     "showTitle": false,
     "tableResultSettingsMap": {},
     "title": ""
    }
   },
   "source": [
    "\n",
    "### GBM - Predict"
   ]
  },
  {
   "cell_type": "markdown",
   "metadata": {
    "application/vnd.databricks.v1+cell": {
     "cellMetadata": {},
     "inputWidgets": {},
     "nuid": "5f2f8c8c-070a-466c-a315-d26562880c66",
     "showTitle": false,
     "tableResultSettingsMap": {},
     "title": ""
    }
   },
   "source": [
    "#### <span style=\"color:darkblue\">Question 4</span>\n",
    "1. Get predictions on the test data for your GBTClassifier. Call the predictions df 'gbPredictions'."
   ]
  },
  {
   "cell_type": "code",
   "execution_count": 192,
   "metadata": {
    "application/vnd.databricks.v1+cell": {
     "cellMetadata": {},
     "inputWidgets": {},
     "nuid": "88af5d4c-6bc4-45c0-a4d5-39656e5aea3a",
     "showTitle": false,
     "tableResultSettingsMap": {},
     "title": ""
    }
   },
   "outputs": [
    {
     "name": "stdout",
     "output_type": "stream",
     "text": [
      "+-----+----------+--------------------+\n",
      "|label|prediction|         probability|\n",
      "+-----+----------+--------------------+\n",
      "|  0.0|       1.0|[0.22871586565307...|\n",
      "|  0.0|       0.0|[0.76002155634970...|\n",
      "|  0.0|       0.0|[0.68621469497458...|\n",
      "|  0.0|       0.0|[0.64714950780972...|\n",
      "|  0.0|       0.0|[0.60037720427173...|\n",
      "|  0.0|       0.0|[0.61161497295995...|\n",
      "|  0.0|       0.0|[0.61161497295995...|\n",
      "|  0.0|       0.0|[0.78272593825106...|\n",
      "|  0.0|       0.0|[0.73469864660007...|\n",
      "|  0.0|       0.0|[0.87734443156483...|\n",
      "|  0.0|       1.0|[0.42248754254994...|\n",
      "|  0.0|       0.0|[0.59860712488349...|\n",
      "|  0.0|       0.0|[0.61282761716197...|\n",
      "|  0.0|       0.0|[0.62934732659411...|\n",
      "|  0.0|       0.0|[0.65059226873479...|\n",
      "|  0.0|       0.0|[0.85149647822220...|\n",
      "|  0.0|       0.0|[0.54561329060604...|\n",
      "|  0.0|       1.0|[0.23325342925184...|\n",
      "|  0.0|       0.0|[0.67806977402571...|\n",
      "|  0.0|       1.0|[0.23325342925184...|\n",
      "+-----+----------+--------------------+\n",
      "only showing top 20 rows\n",
      "\n"
     ]
    }
   ],
   "source": [
    "### Question 4.1 Answer ###\n",
    "\n",
    "# make predictions on test data\n",
    "gbPredictions = gbModel.transform(testData)\n",
    "\n",
    "result_df = gbPredictions.select('label', 'prediction', 'probability')\n",
    "\n",
    "result_df.show()"
   ]
  },
  {
   "cell_type": "markdown",
   "metadata": {
    "application/vnd.databricks.v1+cell": {
     "cellMetadata": {},
     "inputWidgets": {},
     "nuid": "f3194131-7989-4854-b39a-622c6ef6f2cd",
     "showTitle": false,
     "tableResultSettingsMap": {},
     "title": ""
    }
   },
   "source": [
    "#### <span style=\"color:darkblue\">Question 5</span>\n",
    "1. Complete the print_performance_metrics() function below to also include measures of F1, Precision, Recall, False Positive Rate and True Positive Rate."
   ]
  },
  {
   "cell_type": "code",
   "execution_count": 193,
   "metadata": {
    "application/vnd.databricks.v1+cell": {
     "cellMetadata": {},
     "inputWidgets": {},
     "nuid": "e20e5588-1c65-428e-b125-9f2cb6ed8a0d",
     "showTitle": false,
     "tableResultSettingsMap": {},
     "title": ""
    }
   },
   "outputs": [],
   "source": [
    "from pyspark.ml.evaluation import BinaryClassificationEvaluator\n",
    "from pyspark.mllib.evaluation import BinaryClassificationMetrics, MulticlassMetrics\n",
    "\n",
    "def print_performance_metrics(predictions):\n",
    "  # Evaluate model\n",
    "  evaluator = BinaryClassificationEvaluator(rawPredictionCol=\"rawPrediction\")\n",
    "  auc = evaluator.evaluate(predictions, {evaluator.metricName: \"areaUnderROC\"})\n",
    "  aupr = evaluator.evaluate(predictions, {evaluator.metricName: \"areaUnderPR\"})\n",
    "  print(\"auc = {:.3f}\".format(auc))\n",
    "  print(\"aupr = {:.3f}\".format(aupr))\n",
    "\n",
    "  # get rdd of predictions and labels for mllib eval metrics\n",
    "  predictionAndLabels = predictions.select(\"prediction\",\"label\").rdd\n",
    "\n",
    "  # Instantiate metrics objects\n",
    "  binary_metrics = BinaryClassificationMetrics(predictionAndLabels)\n",
    "  multi_metrics = MulticlassMetrics(predictionAndLabels)\n",
    "\n",
    "  # Area under precision-recall curve\n",
    "  print(\"Area under PR = {:.3f}\".format(binary_metrics.areaUnderPR))\n",
    "  # Area under ROC curve\n",
    "  print(\"Area under ROC = {:.3f}\".format(binary_metrics.areaUnderROC))\n",
    "  # Accuracy\n",
    "  print(\"Accuracy = {:.3f}\".format(multi_metrics.accuracy))\n",
    "  # Confusion Matrix\n",
    "  print(multi_metrics.confusionMatrix())\n",
    "  \n",
    "  ### Question 5.1 Answer ###\n",
    "\n",
    "  labels = predictions.select(\"label\").distinct().rdd.flatMap(lambda x: x).collect()\n",
    "\n",
    "  for label in labels:\n",
    "    if label == 0:\n",
    "      continue\n",
    "    # F1\n",
    "    print(\"F1 = {:.3f}\".format(multi_metrics.fMeasure(label)))\n",
    "    # Precision\n",
    "    print(\"Precision = {:.3f}\".format(multi_metrics.precision(label)))\n",
    "    # Recall\n",
    "    print(\"Recall = {:.3f}\".format(multi_metrics.recall(label)))\n",
    "    # FPR\n",
    "    print(\"FPR = {:.3f}\".format(multi_metrics.falsePositiveRate(label)))\n",
    "    # TPR\n",
    "    print(\"TPR = {:.3f}\".format(multi_metrics.truePositiveRate(label)))\n",
    "   \n"
   ]
  },
  {
   "cell_type": "markdown",
   "metadata": {},
   "source": [
    "\n",
    "#### Logistic Regression - Evaluate"
   ]
  },
  {
   "cell_type": "code",
   "execution_count": 194,
   "metadata": {},
   "outputs": [
    {
     "name": "stdout",
     "output_type": "stream",
     "text": [
      "auc = 0.901\n",
      "aupr = 0.760\n"
     ]
    },
    {
     "name": "stderr",
     "output_type": "stream",
     "text": [
      "/Users/judesantos/miniconda3/envs/mlenv/lib/python3.12/site-packages/pyspark/sql/context.py:158: FutureWarning: Deprecated in 3.0.0. Use SparkSession.builder.getOrCreate() instead.\n",
      "  warnings.warn(\n"
     ]
    },
    {
     "name": "stdout",
     "output_type": "stream",
     "text": [
      "Area under PR = 0.547\n",
      "Area under ROC = 0.818\n",
      "Accuracy = 0.810\n",
      "DenseMatrix([[5903., 1462.],\n",
      "             [ 391., 1973.]])\n",
      "F1 = 0.680\n",
      "Precision = 0.574\n",
      "Recall = 0.835\n",
      "FPR = 0.199\n",
      "TPR = 0.835\n"
     ]
    }
   ],
   "source": [
    "print_performance_metrics(lrPredictions)"
   ]
  },
  {
   "cell_type": "markdown",
   "metadata": {
    "application/vnd.databricks.v1+cell": {
     "cellMetadata": {},
     "inputWidgets": {},
     "nuid": "21aa0bfe-9510-470d-9692-7c252c9bc58f",
     "showTitle": false,
     "tableResultSettingsMap": {},
     "title": ""
    }
   },
   "source": [
    "#### GBM - Evaluate"
   ]
  },
  {
   "cell_type": "code",
   "execution_count": 195,
   "metadata": {
    "application/vnd.databricks.v1+cell": {
     "cellMetadata": {},
     "inputWidgets": {},
     "nuid": "111e82b8-8470-42d0-9485-5fdb59912e56",
     "showTitle": false,
     "tableResultSettingsMap": {},
     "title": ""
    }
   },
   "outputs": [
    {
     "name": "stdout",
     "output_type": "stream",
     "text": [
      "auc = 0.908\n",
      "aupr = 0.771\n",
      "Area under PR = 0.643\n",
      "Area under ROC = 0.752\n",
      "Accuracy = 0.850\n",
      "DenseMatrix([[6934.,  431.],\n",
      "             [1033., 1331.]])\n",
      "F1 = 0.645\n",
      "Precision = 0.755\n",
      "Recall = 0.563\n",
      "FPR = 0.059\n",
      "TPR = 0.563\n"
     ]
    }
   ],
   "source": [
    "print_performance_metrics(gbPredictions)"
   ]
  },
  {
   "cell_type": "markdown",
   "metadata": {
    "application/vnd.databricks.v1+cell": {
     "cellMetadata": {},
     "inputWidgets": {},
     "nuid": "c9d7ac8b-69d9-47d4-9412-9342faad7c05",
     "showTitle": false,
     "tableResultSettingsMap": {},
     "title": ""
    }
   },
   "source": [
    "\n",
    "## Cross Validation"
   ]
  },
  {
   "cell_type": "markdown",
   "metadata": {
    "application/vnd.databricks.v1+cell": {
     "cellMetadata": {},
     "inputWidgets": {},
     "nuid": "766d216e-da4c-4d99-8693-44c74ef75370",
     "showTitle": false,
     "tableResultSettingsMap": {},
     "title": ""
    }
   },
   "source": [
    "For each model you can run the below comand to see its params and a brief explanation of each. "
   ]
  },
  {
   "cell_type": "code",
   "execution_count": 196,
   "metadata": {
    "application/vnd.databricks.v1+cell": {
     "cellMetadata": {},
     "inputWidgets": {},
     "nuid": "dcfef6fc-f469-4556-bebc-9ed17b605b8f",
     "showTitle": false,
     "tableResultSettingsMap": {},
     "title": ""
    }
   },
   "outputs": [
    {
     "name": "stdout",
     "output_type": "stream",
     "text": [
      "aggregationDepth: suggested depth for treeAggregate (>= 2). (default: 2)\n",
      "elasticNetParam: the ElasticNet mixing parameter, in range [0, 1]. For alpha = 0, the penalty is an L2 penalty. For alpha = 1, it is an L1 penalty. (default: 0.0)\n",
      "family: The name of family which is a description of the label distribution to be used in the model. Supported options: auto, binomial, multinomial (default: auto)\n",
      "featuresCol: features column name. (default: features, current: features)\n",
      "fitIntercept: whether to fit an intercept term. (default: True)\n",
      "labelCol: label column name. (default: label, current: label)\n",
      "lowerBoundsOnCoefficients: The lower bounds on coefficients if fitting under bound constrained optimization. The bound matrix must be compatible with the shape (1, number of features) for binomial regression, or (number of classes, number of features) for multinomial regression. (undefined)\n",
      "lowerBoundsOnIntercepts: The lower bounds on intercepts if fitting under bound constrained optimization. The bounds vector size must beequal with 1 for binomial regression, or the number oflasses for multinomial regression. (undefined)\n",
      "maxBlockSizeInMB: maximum memory in MB for stacking input data into blocks. Data is stacked within partitions. If more than remaining data size in a partition then it is adjusted to the data size. Default 0.0 represents choosing optimal value, depends on specific algorithm. Must be >= 0. (default: 0.0)\n",
      "maxIter: max number of iterations (>= 0). (default: 100, current: 10)\n",
      "predictionCol: prediction column name. (default: prediction)\n",
      "probabilityCol: Column name for predicted class conditional probabilities. Note: Not all models output well-calibrated probability estimates! These probabilities should be treated as confidences, not precise probabilities. (default: probability)\n",
      "rawPredictionCol: raw prediction (a.k.a. confidence) column name. (default: rawPrediction)\n",
      "regParam: regularization parameter (>= 0). (default: 0.0)\n",
      "standardization: whether to standardize the training features before fitting the model. (default: True)\n",
      "threshold: Threshold in binary classification prediction, in range [0, 1]. If threshold and thresholds are both set, they must match.e.g. if threshold is p, then thresholds must be equal to [1-p, p]. (default: 0.5, current: 0.23988262088297127)\n",
      "thresholds: Thresholds in multi-class classification to adjust the probability of predicting each class. Array must have length equal to the number of classes, with values > 0, excepting that at most one value may be 0. The class with largest value p/t is predicted, where p is the original probability of that class and t is the class's threshold. (undefined)\n",
      "tol: the convergence tolerance for iterative algorithms (>= 0). (default: 1e-06)\n",
      "upperBoundsOnCoefficients: The upper bounds on coefficients if fitting under bound constrained optimization. The bound matrix must be compatible with the shape (1, number of features) for binomial regression, or (number of classes, number of features) for multinomial regression. (undefined)\n",
      "upperBoundsOnIntercepts: The upper bounds on intercepts if fitting under bound constrained optimization. The bound vector size must be equal with 1 for binomial regression, or the number of classes for multinomial regression. (undefined)\n",
      "weightCol: weight column name. If this is not set or empty, we treat all instance weights as 1.0. (undefined)\n"
     ]
    }
   ],
   "source": [
    "print(lr.explainParams())"
   ]
  },
  {
   "cell_type": "code",
   "execution_count": 197,
   "metadata": {
    "application/vnd.databricks.v1+cell": {
     "cellMetadata": {},
     "inputWidgets": {},
     "nuid": "077280d3-39ad-4b29-b97e-ca45993c7527",
     "showTitle": false,
     "tableResultSettingsMap": {},
     "title": ""
    }
   },
   "outputs": [
    {
     "name": "stdout",
     "output_type": "stream",
     "text": [
      "cacheNodeIds: If false, the algorithm will pass trees to executors to match instances with nodes. If true, the algorithm will cache node IDs for each instance. Caching can speed up training of deeper trees. Users can set how often should the cache be checkpointed or disable it by setting checkpointInterval. (default: False)\n",
      "checkpointInterval: set checkpoint interval (>= 1) or disable checkpoint (-1). E.g. 10 means that the cache will get checkpointed every 10 iterations. Note: this setting will be ignored if the checkpoint directory is not set in the SparkContext. (default: 10)\n",
      "featureSubsetStrategy: The number of features to consider for splits at each tree node. Supported options: 'auto' (choose automatically for task: If numTrees == 1, set to 'all'. If numTrees > 1 (forest), set to 'sqrt' for classification and to 'onethird' for regression), 'all' (use all features), 'onethird' (use 1/3 of the features), 'sqrt' (use sqrt(number of features)), 'log2' (use log2(number of features)), 'n' (when n is in the range (0, 1.0], use n * number of features. When n is in the range (1, number of features), use n features). default = 'auto' (default: all)\n",
      "featuresCol: features column name. (default: features, current: features)\n",
      "impurity: Criterion used for information gain calculation (case-insensitive). Supported options: variance (default: variance)\n",
      "labelCol: label column name. (default: label, current: label)\n",
      "leafCol: Leaf indices column name. Predicted leaf index of each instance in each tree by preorder. (default: )\n",
      "lossType: Loss function which GBT tries to minimize (case-insensitive). Supported options: logistic (default: logistic)\n",
      "maxBins: Max number of bins for discretizing continuous features.  Must be >=2 and >= number of categories for any categorical feature. (default: 32)\n",
      "maxDepth: Maximum depth of the tree. (>= 0) E.g., depth 0 means 1 leaf node; depth 1 means 1 internal node + 2 leaf nodes. Must be in range [0, 30]. (default: 5)\n",
      "maxIter: max number of iterations (>= 0). (default: 20)\n",
      "maxMemoryInMB: Maximum memory in MB allocated to histogram aggregation. If too small, then 1 node will be split per iteration, and its aggregates may exceed this size. (default: 256)\n",
      "minInfoGain: Minimum information gain for a split to be considered at a tree node. (default: 0.0)\n",
      "minInstancesPerNode: Minimum number of instances each child must have after split. If a split causes the left or right child to have fewer than minInstancesPerNode, the split will be discarded as invalid. Should be >= 1. (default: 1)\n",
      "minWeightFractionPerNode: Minimum fraction of the weighted sample count that each child must have after split. If a split causes the fraction of the total weight in the left or right child to be less than minWeightFractionPerNode, the split will be discarded as invalid. Should be in interval [0.0, 0.5). (default: 0.0)\n",
      "predictionCol: prediction column name. (default: prediction)\n",
      "probabilityCol: Column name for predicted class conditional probabilities. Note: Not all models output well-calibrated probability estimates! These probabilities should be treated as confidences, not precise probabilities. (default: probability)\n",
      "rawPredictionCol: raw prediction (a.k.a. confidence) column name. (default: rawPrediction)\n",
      "seed: random seed. (default: 7239963002459075759)\n",
      "stepSize: Step size (a.k.a. learning rate) in interval (0, 1] for shrinking the contribution of each estimator. (default: 0.1)\n",
      "subsamplingRate: Fraction of the training data used for learning each decision tree, in range (0, 1]. (default: 1.0)\n",
      "thresholds: Thresholds in multi-class classification to adjust the probability of predicting each class. Array must have length equal to the number of classes, with values > 0, excepting that at most one value may be 0. The class with largest value p/t is predicted, where p is the original probability of that class and t is the class's threshold. (undefined)\n",
      "validationIndicatorCol: name of the column that indicates whether each row is for training or for validation. False indicates training; true indicates validation. (undefined)\n",
      "validationTol: Threshold for stopping early when fit with validation is used. If the error rate on the validation input changes by less than the validationTol, then learning will stop early (before `maxIter`). This parameter is ignored when fit without validation is used. (default: 0.01)\n",
      "weightCol: weight column name. If this is not set or empty, we treat all instance weights as 1.0. (undefined)\n"
     ]
    }
   ],
   "source": [
    "print(gb.explainParams())"
   ]
  },
  {
   "cell_type": "markdown",
   "metadata": {
    "application/vnd.databricks.v1+cell": {
     "cellMetadata": {},
     "inputWidgets": {},
     "nuid": "5daa3f89-6335-47e0-96e6-b1e0c43a3aea",
     "showTitle": false,
     "tableResultSettingsMap": {},
     "title": ""
    }
   },
   "source": [
    "\n",
    "#### Logisitic Regression - Param Grid"
   ]
  },
  {
   "cell_type": "code",
   "execution_count": 198,
   "metadata": {
    "application/vnd.databricks.v1+cell": {
     "cellMetadata": {},
     "inputWidgets": {},
     "nuid": "0d0ad441-c23a-484b-81e4-14b7fbf0b27e",
     "showTitle": false,
     "tableResultSettingsMap": {},
     "title": ""
    }
   },
   "outputs": [],
   "source": [
    "from pyspark.ml.tuning import ParamGridBuilder, CrossValidator\n",
    "\n",
    "# Create ParamGrid for Cross Validation\n",
    "lrParamGrid = (ParamGridBuilder()\n",
    "             .addGrid(lr.regParam, [0.01, 0.5, 2.0])\n",
    "             .addGrid(lr.elasticNetParam, [0.0, 0.5, 1.0])\n",
    "             .addGrid(lr.maxIter, [2, 5])\n",
    "             .build())"
   ]
  },
  {
   "cell_type": "markdown",
   "metadata": {
    "application/vnd.databricks.v1+cell": {
     "cellMetadata": {},
     "inputWidgets": {},
     "nuid": "b72cc844-4efe-498a-aff0-18403c629de6",
     "showTitle": false,
     "tableResultSettingsMap": {},
     "title": ""
    }
   },
   "source": [
    "#### GBM - Param Grid"
   ]
  },
  {
   "cell_type": "markdown",
   "metadata": {
    "application/vnd.databricks.v1+cell": {
     "cellMetadata": {},
     "inputWidgets": {},
     "nuid": "47696aef-d15e-4885-94aa-e263c7a56121",
     "showTitle": false,
     "tableResultSettingsMap": {},
     "title": ""
    }
   },
   "source": [
    "#### <span style=\"color:darkblue\">Question 6</span>\n",
    "1. Build out a param grid for the gb model, call it 'gbParamGrid'."
   ]
  },
  {
   "cell_type": "code",
   "execution_count": 199,
   "metadata": {
    "application/vnd.databricks.v1+cell": {
     "cellMetadata": {},
     "inputWidgets": {},
     "nuid": "34b95f49-81f1-4edc-949d-e453c6214d22",
     "showTitle": false,
     "tableResultSettingsMap": {},
     "title": ""
    }
   },
   "outputs": [],
   "source": [
    "### Question 6.1 Answer ###\n",
    "\n",
    "# Create ParamGrid for Cross Validation\n",
    "gbParamGrid = (ParamGridBuilder()\n",
    "             .addGrid(gb.maxDepth, [1, 10, 30])\n",
    "             .addGrid(gb.stepSize, [0.0001, 0.01, 0.1])\n",
    "             .addGrid(gb.maxIter, [2, 5])\n",
    "             .build()) "
   ]
  },
  {
   "cell_type": "markdown",
   "metadata": {
    "application/vnd.databricks.v1+cell": {
     "cellMetadata": {},
     "inputWidgets": {},
     "nuid": "cb7eecc2-5510-4563-8fc1-ec0f8efa7ecd",
     "showTitle": false,
     "tableResultSettingsMap": {},
     "title": ""
    }
   },
   "source": [
    "\n",
    "#### Logistic Regression - Perform Cross Validation"
   ]
  },
  {
   "cell_type": "code",
   "execution_count": 200,
   "metadata": {
    "application/vnd.databricks.v1+cell": {
     "cellMetadata": {},
     "inputWidgets": {},
     "nuid": "9d2856c2-cec9-43e5-8b42-61f93429b97f",
     "showTitle": false,
     "tableResultSettingsMap": {},
     "title": ""
    }
   },
   "outputs": [],
   "source": [
    "# set up an evaluator\n",
    "evaluator = BinaryClassificationEvaluator(rawPredictionCol=\"rawPrediction\")\n",
    "\n",
    "# Create CrossValidator\n",
    "lrCv = CrossValidator(estimator=lr, estimatorParamMaps=lrParamGrid, evaluator=evaluator, numFolds=2)\n",
    "\n",
    "# Run cross validations\n",
    "lrCvModel = lrCv.fit(trainingData)\n",
    "# this will likely take a fair amount of time because of the amount of models that we're creating and testing"
   ]
  },
  {
   "cell_type": "code",
   "execution_count": 201,
   "metadata": {
    "application/vnd.databricks.v1+cell": {
     "cellMetadata": {},
     "inputWidgets": {},
     "nuid": "919f51ca-6b9d-43ac-a32b-16bf811f3a0d",
     "showTitle": false,
     "tableResultSettingsMap": {},
     "title": ""
    }
   },
   "outputs": [
    {
     "name": "stdout",
     "output_type": "stream",
     "text": [
      "0.01\n",
      "0.5\n",
      "5\n"
     ]
    }
   ],
   "source": [
    "# below approach to getting at the best params from the best cv model taken from:\n",
    "# https://stackoverflow.com/a/46353730/1919374\n",
    "\n",
    "# look at best params from the CV\n",
    "print(lrCvModel.bestModel._java_obj.getRegParam())\n",
    "print(lrCvModel.bestModel._java_obj.getElasticNetParam())\n",
    "print(lrCvModel.bestModel._java_obj.getMaxIter())"
   ]
  },
  {
   "cell_type": "markdown",
   "metadata": {
    "application/vnd.databricks.v1+cell": {
     "cellMetadata": {},
     "inputWidgets": {},
     "nuid": "ea6bd5d5-df8c-4eaa-aa24-7dcc2e7627cc",
     "showTitle": false,
     "tableResultSettingsMap": {},
     "title": ""
    }
   },
   "source": [
    "#### GBM - Perform Cross Validation"
   ]
  },
  {
   "cell_type": "markdown",
   "metadata": {
    "application/vnd.databricks.v1+cell": {
     "cellMetadata": {},
     "inputWidgets": {},
     "nuid": "fb2030b9-f96b-4402-b6cf-ab05effc3944",
     "showTitle": false,
     "tableResultSettingsMap": {},
     "title": ""
    }
   },
   "source": [
    "#### <span style=\"color:darkblue\">Question 7</span>\n",
    "1. Perform cross validation of params on your 'gb' model.\n",
    "1. Print out the best params you found."
   ]
  },
  {
   "cell_type": "code",
   "execution_count": 202,
   "metadata": {
    "application/vnd.databricks.v1+cell": {
     "cellMetadata": {},
     "inputWidgets": {},
     "nuid": "98a9e5e6-449d-4f6e-8fee-3fc3e1e56c2f",
     "showTitle": false,
     "tableResultSettingsMap": {},
     "title": ""
    }
   },
   "outputs": [],
   "source": [
    "### Question 7.1 Answer ###\n",
    "\n",
    "#spark.conf.set(\"spark.sql.autoBroadcastJoinThreshold\", -1)\n",
    "\n",
    "# Create CrossValidator\n",
    "gbCv = CrossValidator(estimator=gb, estimatorParamMaps=gbParamGrid, evaluator=evaluator, numFolds=2) \n",
    "\n",
    "# Run cross validations\n",
    "gbCvModel = gbCv.fit(trainingData)"
   ]
  },
  {
   "cell_type": "code",
   "execution_count": 203,
   "metadata": {
    "application/vnd.databricks.v1+cell": {
     "cellMetadata": {},
     "inputWidgets": {},
     "nuid": "60e1eff8-e84e-4a8b-bab1-3b5ce2e5e9f4",
     "showTitle": false,
     "tableResultSettingsMap": {},
     "title": ""
    }
   },
   "outputs": [
    {
     "name": "stdout",
     "output_type": "stream",
     "text": [
      "10\n",
      "0.1\n",
      "5\n"
     ]
    }
   ],
   "source": [
    "### Question 7.2 Answer ###\n",
    "\n",
    "# look at best params from the CV\n",
    "print(gbCvModel.bestModel._java_obj.getMaxDepth())\n",
    "print(gbCvModel.bestModel._java_obj.getStepSize())\n",
    "print(gbCvModel.bestModel._java_obj.getMaxIter())"
   ]
  },
  {
   "cell_type": "markdown",
   "metadata": {
    "application/vnd.databricks.v1+cell": {
     "cellMetadata": {},
     "inputWidgets": {},
     "nuid": "efd7e902-4c5c-48ca-8dfc-93a8ca1192e0",
     "showTitle": false,
     "tableResultSettingsMap": {},
     "title": ""
    }
   },
   "source": [
    "#### Logistic Regression - CV Model Predict"
   ]
  },
  {
   "cell_type": "code",
   "execution_count": 204,
   "metadata": {
    "application/vnd.databricks.v1+cell": {
     "cellMetadata": {},
     "inputWidgets": {},
     "nuid": "402209de-a5da-4195-ac8a-fe20fb1c9b87",
     "showTitle": false,
     "tableResultSettingsMap": {},
     "title": ""
    }
   },
   "outputs": [
    {
     "name": "stdout",
     "output_type": "stream",
     "text": [
      "+-----+--------------------+---+---------+--------+---------+-------------+-------------------+---------------+------------+------+-------+------------+------------+--------------+--------------+------+--------------------+--------------------+----------+\n",
      "|label|            features|age|workclass|  fnlwgt|education|education_num|     marital_status|     occupation|relationship|  race|    sex|capital_gain|capital_loss|hours_per_week|native_country|income|       rawPrediction|         probability|prediction|\n",
      "+-----+--------------------+---+---------+--------+---------+-------------+-------------------+---------------+------------+------+-------+------------+------------+--------------+--------------+------+--------------------+--------------------+----------+\n",
      "|  0.0|(100,[0,8,23,29,4...| 36|  Private|370767.0|  HS-grad|          9.0| Married-civ-spouse| Prof-specialty|     Husband| White|   Male|         0.0|      2377.0|          60.0| United-States| <=50K|[-0.7971643691213...|[0.31063241433949...|       1.0|\n",
      "|  0.0|(100,[0,8,23,29,4...| 32|  Private|131224.0|  HS-grad|          9.0| Married-civ-spouse| Prof-specialty|     Husband| White|   Male|         0.0|         0.0|          40.0| United-States| <=50K|[0.80250950622017...|[0.69051103276322...|       1.0|\n",
      "|  0.0|(100,[0,8,23,29,4...| 33|  Private|279173.0|  HS-grad|          9.0| Married-civ-spouse| Prof-specialty|     Husband| White|   Male|         0.0|         0.0|          60.0| United-States| <=50K|[0.31925692650389...|[0.57914314877698...|       1.0|\n",
      "|  0.0|(100,[0,8,23,29,4...| 39|  Private| 50700.0|  HS-grad|          9.0| Married-civ-spouse| Prof-specialty|     Husband| White|   Male|         0.0|         0.0|          40.0| United-States| <=50K|[0.68084471694994...|[0.66392720339143...|       1.0|\n",
      "|  0.0|(100,[0,8,23,29,4...| 39|  Private|181705.0|  HS-grad|          9.0| Married-civ-spouse| Prof-specialty|     Husband| White|   Male|         0.0|         0.0|          45.0| United-States| <=50K|[0.56238350141709...|[0.63700385694965...|       1.0|\n",
      "|  0.0|(100,[0,8,23,29,4...| 50|  Private| 81548.0|  HS-grad|          9.0| Married-civ-spouse| Prof-specialty|     Husband| White|   Male|         0.0|         0.0|          40.0| United-States| <=50K|[0.48621521985955...|[0.61921443044414...|       1.0|\n",
      "|  0.0|(100,[0,8,23,29,4...| 51|  Private| 94432.0|  HS-grad|          9.0| Married-civ-spouse| Prof-specialty|     Husband| White|   Male|         0.0|         0.0|          40.0| United-States| <=50K|[0.46830119105664...|[0.61498159236397...|       1.0|\n",
      "|  0.0|(100,[0,8,23,29,4...| 60|  Private|198727.0|  HS-grad|          9.0| Married-civ-spouse| Prof-specialty|     Husband| White|   Male|         0.0|         0.0|          30.0| United-States| <=50K|[0.53852231692135...|[0.63146860408657...|       1.0|\n",
      "|  0.0|(100,[0,8,23,29,4...| 34|  Private|241360.0|  HS-grad|          9.0| Married-civ-spouse| Prof-specialty|     Husband| White|   Male|         0.0|         0.0|          40.0|             ?| <=50K|[0.87851220562392...|[0.70651381870414...|       1.0|\n",
      "|  0.0|(100,[0,8,23,29,4...| 20|  Private|219266.0|  HS-grad|          9.0| Married-civ-spouse| Prof-specialty|   Own-child| White| Female|         0.0|         0.0|          36.0|             ?| <=50K|[2.69214847292791...|[0.93656175047794...|       0.0|\n",
      "|  0.0|(100,[0,8,23,29,4...| 35|  Private|145704.0|  HS-grad|          9.0| Married-civ-spouse| Prof-specialty|        Wife| White| Female|      3942.0|         0.0|          35.0| United-States| <=50K|[0.34611321780848...|[0.58567472812424...|       1.0|\n",
      "|  0.0|(100,[0,8,23,29,4...| 42|  Private|334783.0|  HS-grad|          9.0| Married-civ-spouse| Prof-specialty|        Wife| White| Female|         0.0|         0.0|          40.0| United-States| <=50K|[0.48037381909841...|[0.61783614281951...|       1.0|\n",
      "|  0.0|(100,[0,8,23,29,4...| 43|  Private|216685.0|  HS-grad|          9.0| Married-civ-spouse| Prof-specialty|        Wife| White| Female|         0.0|         0.0|          35.0| United-States| <=50K|[0.58092050282631...|[0.64127918650783...|       1.0|\n",
      "|  0.0|(100,[0,8,23,29,4...| 48|  Private|199763.0|  HS-grad|          9.0| Married-civ-spouse| Prof-specialty|        Wife| White| Female|         0.0|         0.0|           8.0| United-States| <=50K|[1.11734866045073...|[0.75349658907136...|       1.0|\n",
      "|  0.0|(100,[0,8,23,29,4...| 50|  Private|287927.0|  HS-grad|          9.0| Married-civ-spouse| Prof-specialty|        Wife| White| Female|         0.0|         0.0|          16.0| United-States| <=50K|[0.89520213347673...|[0.70996254256342...|       1.0|\n",
      "|  0.0|(100,[0,8,23,30,4...| 27|  Private| 57052.0|  HS-grad|          9.0| Married-civ-spouse|   Craft-repair|     Husband| White|   Male|      2885.0|         0.0|          40.0| United-States| <=50K|[1.08843742568768...|[0.74808736449100...|       1.0|\n",
      "|  0.0|(100,[0,8,23,30,4...| 32|  Private|400535.0|  HS-grad|          9.0| Married-civ-spouse|   Craft-repair|     Husband| White|   Male|      3781.0|         0.0|          40.0| United-States| <=50K|[0.90697881739908...|[0.71238153772261...|       1.0|\n",
      "|  0.0|(100,[0,8,23,30,4...| 45|  Private|362883.0|  HS-grad|          9.0| Married-civ-spouse|   Craft-repair|     Husband| White|   Male|      5013.0|         0.0|          40.0| United-States| <=50K|[0.56062787327807...|[0.63659780559246...|       1.0|\n",
      "|  0.0|(100,[0,8,23,30,4...| 46|  Private|248059.0|  HS-grad|          9.0| Married-civ-spouse|   Craft-repair|     Husband| White|   Male|      3464.0|         0.0|          40.0| United-States| <=50K|[0.69381220591279...|[0.66681443369482...|       1.0|\n",
      "|  0.0|(100,[0,8,23,30,4...| 56|  Private|235826.0|  HS-grad|          9.0| Married-civ-spouse|   Craft-repair|     Husband| White|   Male|      5013.0|         0.0|          40.0| United-States| <=50K|[0.36945170388082...|[0.59132648411924...|       1.0|\n",
      "+-----+--------------------+---+---------+--------+---------+-------------+-------------------+---------------+------------+------+-------+------------+------------+--------------+--------------+------+--------------------+--------------------+----------+\n",
      "only showing top 20 rows\n",
      "\n"
     ]
    }
   ],
   "source": [
    "# Use test set to measure the accuracy of our model on new data\n",
    "lrCvPredictions = lrCvModel.transform(testData)\n",
    "\n",
    "lrCvPredictions.show()"
   ]
  },
  {
   "cell_type": "markdown",
   "metadata": {
    "application/vnd.databricks.v1+cell": {
     "cellMetadata": {},
     "inputWidgets": {},
     "nuid": "cff1a654-95f5-4e08-9705-76e133141de7",
     "showTitle": false,
     "tableResultSettingsMap": {},
     "title": ""
    }
   },
   "source": [
    "#### GBM - CV Model Predict"
   ]
  },
  {
   "cell_type": "code",
   "execution_count": 205,
   "metadata": {
    "application/vnd.databricks.v1+cell": {
     "cellMetadata": {},
     "inputWidgets": {},
     "nuid": "b7e0cddb-99ed-4fe9-9c46-ed9dc12f5044",
     "showTitle": false,
     "tableResultSettingsMap": {},
     "title": ""
    }
   },
   "outputs": [
    {
     "name": "stdout",
     "output_type": "stream",
     "text": [
      "+-----+--------------------+---+---------+--------+---------+-------------+-------------------+---------------+------------+------+-------+------------+------------+--------------+--------------+------+--------------------+--------------------+----------+\n",
      "|label|            features|age|workclass|  fnlwgt|education|education_num|     marital_status|     occupation|relationship|  race|    sex|capital_gain|capital_loss|hours_per_week|native_country|income|       rawPrediction|         probability|prediction|\n",
      "+-----+--------------------+---+---------+--------+---------+-------------+-------------------+---------------+------------+------+-------+------------+------------+--------------+--------------+------+--------------------+--------------------+----------+\n",
      "|  0.0|(100,[0,8,23,29,4...| 36|  Private|370767.0|  HS-grad|          9.0| Married-civ-spouse| Prof-specialty|     Husband| White|   Male|         0.0|      2377.0|          60.0| United-States| <=50K|[-0.7717963475769...|[0.17601360942494...|       1.0|\n",
      "|  0.0|(100,[0,8,23,29,4...| 32|  Private|131224.0|  HS-grad|          9.0| Married-civ-spouse| Prof-specialty|     Husband| White|   Male|         0.0|         0.0|          40.0| United-States| <=50K|[0.48359459061866...|[0.72455888761988...|       0.0|\n",
      "|  0.0|(100,[0,8,23,29,4...| 33|  Private|279173.0|  HS-grad|          9.0| Married-civ-spouse| Prof-specialty|     Husband| White|   Male|         0.0|         0.0|          60.0| United-States| <=50K|[0.35574021797758...|[0.67072819947585...|       0.0|\n",
      "|  0.0|(100,[0,8,23,29,4...| 39|  Private| 50700.0|  HS-grad|          9.0| Married-civ-spouse| Prof-specialty|     Husband| White|   Male|         0.0|         0.0|          40.0| United-States| <=50K|[0.10287027464124...|[0.55125446813502...|       0.0|\n",
      "|  0.0|(100,[0,8,23,29,4...| 39|  Private|181705.0|  HS-grad|          9.0| Married-civ-spouse| Prof-specialty|     Husband| White|   Male|         0.0|         0.0|          45.0| United-States| <=50K|[0.18428970320959...|[0.59111566839307...|       0.0|\n",
      "|  0.0|(100,[0,8,23,29,4...| 50|  Private| 81548.0|  HS-grad|          9.0| Married-civ-spouse| Prof-specialty|     Husband| White|   Male|         0.0|         0.0|          40.0| United-States| <=50K|[0.10827120394257...|[0.55392505156349...|       0.0|\n",
      "|  0.0|(100,[0,8,23,29,4...| 51|  Private| 94432.0|  HS-grad|          9.0| Married-civ-spouse| Prof-specialty|     Husband| White|   Male|         0.0|         0.0|          40.0| United-States| <=50K|[0.10827120394257...|[0.55392505156349...|       0.0|\n",
      "|  0.0|(100,[0,8,23,29,4...| 60|  Private|198727.0|  HS-grad|          9.0| Married-civ-spouse| Prof-specialty|     Husband| White|   Male|         0.0|         0.0|          30.0| United-States| <=50K|[0.91339134247185...|[0.86137800678070...|       0.0|\n",
      "|  0.0|(100,[0,8,23,29,4...| 34|  Private|241360.0|  HS-grad|          9.0| Married-civ-spouse| Prof-specialty|     Husband| White|   Male|         0.0|         0.0|          40.0|             ?| <=50K|[0.68893564384846...|[0.79864890212148...|       0.0|\n",
      "|  0.0|(100,[0,8,23,29,4...| 20|  Private|219266.0|  HS-grad|          9.0| Married-civ-spouse| Prof-specialty|   Own-child| White| Female|         0.0|         0.0|          36.0|             ?| <=50K|[0.63757246054259...|[0.78162220133772...|       0.0|\n",
      "|  0.0|(100,[0,8,23,29,4...| 35|  Private|145704.0|  HS-grad|          9.0| Married-civ-spouse| Prof-specialty|        Wife| White| Female|      3942.0|         0.0|          35.0| United-States| <=50K|[-0.8547540115248...|[0.15322753832377...|       1.0|\n",
      "|  0.0|(100,[0,8,23,29,4...| 42|  Private|334783.0|  HS-grad|          9.0| Married-civ-spouse| Prof-specialty|        Wife| White| Female|         0.0|         0.0|          40.0| United-States| <=50K|[-0.0055219289535...|[0.49723906358504...|       1.0|\n",
      "|  0.0|(100,[0,8,23,29,4...| 43|  Private|216685.0|  HS-grad|          9.0| Married-civ-spouse| Prof-specialty|        Wife| White| Female|         0.0|         0.0|          35.0| United-States| <=50K|[0.05180792801307...|[0.52588081291845...|       0.0|\n",
      "|  0.0|(100,[0,8,23,29,4...| 48|  Private|199763.0|  HS-grad|          9.0| Married-civ-spouse| Prof-specialty|        Wife| White| Female|         0.0|         0.0|           8.0| United-States| <=50K|[-0.0461352433648...|[0.47694873057089...|       1.0|\n",
      "|  0.0|(100,[0,8,23,29,4...| 50|  Private|287927.0|  HS-grad|          9.0| Married-civ-spouse| Prof-specialty|        Wife| White| Female|         0.0|         0.0|          16.0| United-States| <=50K|[0.59247143297763...|[0.76583538003857...|       0.0|\n",
      "|  0.0|(100,[0,8,23,30,4...| 27|  Private| 57052.0|  HS-grad|          9.0| Married-civ-spouse|   Craft-repair|     Husband| White|   Male|      2885.0|         0.0|          40.0| United-States| <=50K|[0.83511164445306...|[0.84160558909192...|       0.0|\n",
      "|  0.0|(100,[0,8,23,30,4...| 32|  Private|400535.0|  HS-grad|          9.0| Married-civ-spouse|   Craft-repair|     Husband| White|   Male|      3781.0|         0.0|          40.0| United-States| <=50K|[-0.3055098881084...|[0.35182660828799...|       1.0|\n",
      "|  0.0|(100,[0,8,23,30,4...| 45|  Private|362883.0|  HS-grad|          9.0| Married-civ-spouse|   Craft-repair|     Husband| White|   Male|      5013.0|         0.0|          40.0| United-States| <=50K|[-0.5777461343463...|[0.23948732806707...|       1.0|\n",
      "|  0.0|(100,[0,8,23,30,4...| 46|  Private|248059.0|  HS-grad|          9.0| Married-civ-spouse|   Craft-repair|     Husband| White|   Male|      3464.0|         0.0|          40.0| United-States| <=50K|[0.32726647669577...|[0.65803122511468...|       0.0|\n",
      "|  0.0|(100,[0,8,23,30,4...| 56|  Private|235826.0|  HS-grad|          9.0| Married-civ-spouse|   Craft-repair|     Husband| White|   Male|      5013.0|         0.0|          40.0| United-States| <=50K|[-0.5777461343463...|[0.23948732806707...|       1.0|\n",
      "+-----+--------------------+---+---------+--------+---------+-------------+-------------------+---------------+------------+------+-------+------------+------------+--------------+--------------+------+--------------------+--------------------+----------+\n",
      "only showing top 20 rows\n",
      "\n"
     ]
    }
   ],
   "source": [
    "gbCvPredictions = gbCvModel.transform(testData)\n",
    "\n",
    "gbCvPredictions.show()"
   ]
  },
  {
   "cell_type": "markdown",
   "metadata": {
    "application/vnd.databricks.v1+cell": {
     "cellMetadata": {},
     "inputWidgets": {},
     "nuid": "f9db16de-2dcd-45ee-9e00-50009530a361",
     "showTitle": false,
     "tableResultSettingsMap": {},
     "title": ""
    }
   },
   "source": [
    "#### Logistic Regression - CV Model Evaluate"
   ]
  },
  {
   "cell_type": "code",
   "execution_count": 206,
   "metadata": {
    "application/vnd.databricks.v1+cell": {
     "cellMetadata": {},
     "inputWidgets": {},
     "nuid": "30e58e24-4d40-4c50-bbb0-73e059994495",
     "showTitle": false,
     "tableResultSettingsMap": {},
     "title": ""
    }
   },
   "outputs": [
    {
     "name": "stdout",
     "output_type": "stream",
     "text": [
      "auc = 0.897\n",
      "aupr = 0.743\n",
      "Area under PR = 0.526\n",
      "Area under ROC = 0.817\n",
      "Accuracy = 0.793\n",
      "DenseMatrix([[5674., 1691.],\n",
      "             [ 322., 2042.]])\n",
      "F1 = 0.670\n",
      "Precision = 0.547\n",
      "Recall = 0.864\n",
      "FPR = 0.230\n",
      "TPR = 0.864\n"
     ]
    }
   ],
   "source": [
    "print_performance_metrics(lrCvPredictions)"
   ]
  },
  {
   "cell_type": "markdown",
   "metadata": {
    "application/vnd.databricks.v1+cell": {
     "cellMetadata": {},
     "inputWidgets": {},
     "nuid": "f959c275-36a7-42a3-b1b7-551e28e651c9",
     "showTitle": false,
     "tableResultSettingsMap": {},
     "title": ""
    }
   },
   "source": [
    "#### GBM - CV Model Evaluate"
   ]
  },
  {
   "cell_type": "code",
   "execution_count": 207,
   "metadata": {
    "application/vnd.databricks.v1+cell": {
     "cellMetadata": {},
     "inputWidgets": {},
     "nuid": "62cfc105-53b6-4690-b732-e6446b965087",
     "showTitle": false,
     "tableResultSettingsMap": {},
     "title": ""
    }
   },
   "outputs": [
    {
     "name": "stdout",
     "output_type": "stream",
     "text": [
      "auc = 0.894\n",
      "aupr = 0.733\n",
      "Area under PR = 0.631\n",
      "Area under ROC = 0.762\n",
      "Accuracy = 0.848\n",
      "DenseMatrix([[6844.,  521.],\n",
      "             [ 959., 1405.]])\n",
      "F1 = 0.655\n",
      "Precision = 0.729\n",
      "Recall = 0.594\n",
      "FPR = 0.071\n",
      "TPR = 0.594\n"
     ]
    }
   ],
   "source": [
    "print_performance_metrics(gbCvPredictions)"
   ]
  },
  {
   "cell_type": "markdown",
   "metadata": {
    "application/vnd.databricks.v1+cell": {
     "cellMetadata": {},
     "inputWidgets": {},
     "nuid": "39417456-a688-48c7-9aa4-58801fbf147e",
     "showTitle": false,
     "tableResultSettingsMap": {},
     "title": ""
    }
   },
   "source": [
    "#### Logistic Regression - Model Explore"
   ]
  },
  {
   "cell_type": "code",
   "execution_count": 208,
   "metadata": {
    "application/vnd.databricks.v1+cell": {
     "cellMetadata": {},
     "inputWidgets": {},
     "nuid": "f567014e-5897-4b4f-b8a5-0aa1b536fe9c",
     "showTitle": false,
     "tableResultSettingsMap": {},
     "title": ""
    }
   },
   "outputs": [
    {
     "name": "stdout",
     "output_type": "stream",
     "text": [
      "Model Intercept:  -6.366757982652425\n"
     ]
    }
   ],
   "source": [
    "print('Model Intercept: ', lrCvModel.bestModel.intercept)"
   ]
  },
  {
   "cell_type": "code",
   "execution_count": 209,
   "metadata": {
    "application/vnd.databricks.v1+cell": {
     "cellMetadata": {},
     "inputWidgets": {},
     "nuid": "c5f8f9be-7672-4cee-83e1-3f72e632a07f",
     "showTitle": false,
     "tableResultSettingsMap": {},
     "title": ""
    }
   },
   "outputs": [
    {
     "name": "stdout",
     "output_type": "stream",
     "text": [
      "+--------------------+\n",
      "|      Feature Weight|\n",
      "+--------------------+\n",
      "| 0.05515969065133605|\n",
      "|  -0.091272082177089|\n",
      "|                 0.0|\n",
      "|-0.08820976897759536|\n",
      "|                 0.0|\n",
      "| 0.25844291981679046|\n",
      "|  0.3991123728299104|\n",
      "|                 0.0|\n",
      "|-0.10445953904829859|\n",
      "|                 0.0|\n",
      "|  0.3848817827497777|\n",
      "| 0.48223884630742536|\n",
      "|                 0.0|\n",
      "| -0.2103308377614565|\n",
      "|                 0.0|\n",
      "|-0.05217591013137434|\n",
      "| -0.2536419833670164|\n",
      "|  0.5530195117061469|\n",
      "|-0.03963287251291965|\n",
      "|                 0.0|\n",
      "+--------------------+\n",
      "only showing top 20 rows\n",
      "\n"
     ]
    }
   ],
   "source": [
    "from pyspark.sql.types import StructType, StructField, StringType\n",
    "\n",
    "lrWeights = lrCvModel.bestModel.coefficients\n",
    "lrWeights = [(float(w),) for w in lrWeights]  # convert numpy type to float, and to tuple\n",
    "\n",
    "schema = StructType([\n",
    "  StructField('Feature Weight', StringType(), True)\n",
    "])\n",
    "\n",
    "lrWeightsDF = spark.createDataFrame(lrWeights, schema)\n",
    "lrWeightsDF.createOrReplaceTempView('feature_weight')\n",
    "\n",
    "lrWeightsDF.show()"
   ]
  },
  {
   "cell_type": "markdown",
   "metadata": {
    "application/vnd.databricks.v1+cell": {
     "cellMetadata": {},
     "inputWidgets": {},
     "nuid": "857e8f3b-45fb-4af6-b8ce-dd30d3190095",
     "showTitle": false,
     "tableResultSettingsMap": {},
     "title": ""
    }
   },
   "source": [
    "### Feature Importance"
   ]
  },
  {
   "cell_type": "markdown",
   "metadata": {
    "application/vnd.databricks.v1+cell": {
     "cellMetadata": {},
     "inputWidgets": {},
     "nuid": "03af6259-aa64-4309-a2a8-6207c8675e26",
     "showTitle": false,
     "tableResultSettingsMap": {},
     "title": ""
    }
   },
   "source": [
    "#### <span style=\"color:darkblue\">Question 8</span>\n",
    "1. Print out a table of feature_name and feature_coefficient from the Logistic Regression model.\n",
    "<br><br>\n",
    "Hint: Adapt the code from here: https://stackoverflow.com/questions/42935914/how-to-map-features-from-the-output-of-a-vectorassembler-back-to-the-column-name"
   ]
  },
  {
   "cell_type": "code",
   "execution_count": 210,
   "metadata": {
    "application/vnd.databricks.v1+cell": {
     "cellMetadata": {},
     "inputWidgets": {},
     "nuid": "eb525282-a308-446e-a14a-37fae0a9019d",
     "showTitle": false,
     "tableResultSettingsMap": {},
     "title": ""
    }
   },
   "outputs": [],
   "source": [
    "### Question 8.1 Answer ###\n",
    "\n",
    "# from: https://stackoverflow.com/questions/42935914/how-to-map-features-from-the-output-of-a-vectorassembler-back-to-the-column-name\n",
    "\n",
    "# fill in here\n",
    "from itertools import chain\n",
    "\n",
    "transformed = lrCvModel.bestModel.transform(trainingData)\n",
    "attrs = sorted((attr[\"idx\"], attr[\"name\"]) for attr in (chain(*transformed.schema[\"features\"].metadata[\"ml_attr\"][\"attrs\"].values())))"
   ]
  },
  {
   "cell_type": "code",
   "execution_count": 211,
   "metadata": {
    "application/vnd.databricks.v1+cell": {
     "cellMetadata": {},
     "inputWidgets": {},
     "nuid": "432159f9-6383-42eb-8ced-489f722d68e0",
     "showTitle": false,
     "tableResultSettingsMap": {},
     "title": ""
    }
   },
   "outputs": [
    {
     "data": {
      "text/html": [
       "<div>\n",
       "<style scoped>\n",
       "    .dataframe tbody tr th:only-of-type {\n",
       "        vertical-align: middle;\n",
       "    }\n",
       "\n",
       "    .dataframe tbody tr th {\n",
       "        vertical-align: top;\n",
       "    }\n",
       "\n",
       "    .dataframe thead th {\n",
       "        text-align: right;\n",
       "    }\n",
       "</style>\n",
       "<table border=\"1\" class=\"dataframe\">\n",
       "  <thead>\n",
       "    <tr style=\"text-align: right;\">\n",
       "      <th></th>\n",
       "      <th>feature_name</th>\n",
       "      <th>feature_importance</th>\n",
       "    </tr>\n",
       "  </thead>\n",
       "  <tbody>\n",
       "    <tr>\n",
       "      <th>23</th>\n",
       "      <td>marital_statusclassVec_ Married-civ-spouse</td>\n",
       "      <td>0.242153</td>\n",
       "    </tr>\n",
       "    <tr>\n",
       "      <th>96</th>\n",
       "      <td>education_num</td>\n",
       "      <td>0.107597</td>\n",
       "    </tr>\n",
       "    <tr>\n",
       "      <th>94</th>\n",
       "      <td>age</td>\n",
       "      <td>0.097937</td>\n",
       "    </tr>\n",
       "    <tr>\n",
       "      <th>97</th>\n",
       "      <td>capital_gain</td>\n",
       "      <td>0.093710</td>\n",
       "    </tr>\n",
       "    <tr>\n",
       "      <th>95</th>\n",
       "      <td>fnlwgt</td>\n",
       "      <td>0.074538</td>\n",
       "    </tr>\n",
       "    <tr>\n",
       "      <th>99</th>\n",
       "      <td>hours_per_week</td>\n",
       "      <td>0.067541</td>\n",
       "    </tr>\n",
       "    <tr>\n",
       "      <th>98</th>\n",
       "      <td>capital_loss</td>\n",
       "      <td>0.036817</td>\n",
       "    </tr>\n",
       "    <tr>\n",
       "      <th>31</th>\n",
       "      <td>occupationclassVec_ Exec-managerial</td>\n",
       "      <td>0.016547</td>\n",
       "    </tr>\n",
       "    <tr>\n",
       "      <th>1</th>\n",
       "      <td>workclassclassVec_ Self-emp-not-inc</td>\n",
       "      <td>0.012847</td>\n",
       "    </tr>\n",
       "  </tbody>\n",
       "</table>\n",
       "</div>"
      ],
      "text/plain": [
       "                                  feature_name  feature_importance\n",
       "23  marital_statusclassVec_ Married-civ-spouse            0.242153\n",
       "96                               education_num            0.107597\n",
       "94                                         age            0.097937\n",
       "97                                capital_gain            0.093710\n",
       "95                                      fnlwgt            0.074538\n",
       "99                              hours_per_week            0.067541\n",
       "98                                capital_loss            0.036817\n",
       "31         occupationclassVec_ Exec-managerial            0.016547\n",
       "1          workclassclassVec_ Self-emp-not-inc            0.012847"
      ]
     },
     "execution_count": 211,
     "metadata": {},
     "output_type": "execute_result"
    }
   ],
   "source": [
    "gbCvFeatureImportance = pd.DataFrame([(name, gbCvModel.bestModel.featureImportances[idx]) for idx, name in attrs],columns=['feature_name','feature_importance'])\n",
    "\n",
    "gbCvFeatureImportance.sort_values(by=['feature_importance'],ascending =False).head(9)"
   ]
  },
  {
   "cell_type": "markdown",
   "metadata": {
    "application/vnd.databricks.v1+cell": {
     "cellMetadata": {},
     "inputWidgets": {},
     "nuid": "bd47490f-2880-4b55-9b80-e74faa0a7fef",
     "showTitle": false,
     "tableResultSettingsMap": {},
     "title": ""
    }
   },
   "source": [
    "#### <span style=\"color:darkblue\">Question 9</span>\n",
    "1. Build and train a RandomForestClassifier and print out a table of feature importances from it."
   ]
  },
  {
   "cell_type": "code",
   "execution_count": 212,
   "metadata": {
    "application/vnd.databricks.v1+cell": {
     "cellMetadata": {},
     "inputWidgets": {},
     "nuid": "9d63f4af-4566-4657-8f7e-a6b848f03356",
     "showTitle": false,
     "tableResultSettingsMap": {},
     "title": ""
    }
   },
   "outputs": [
    {
     "data": {
      "text/html": [
       "<div>\n",
       "<style scoped>\n",
       "    .dataframe tbody tr th:only-of-type {\n",
       "        vertical-align: middle;\n",
       "    }\n",
       "\n",
       "    .dataframe tbody tr th {\n",
       "        vertical-align: top;\n",
       "    }\n",
       "\n",
       "    .dataframe thead th {\n",
       "        text-align: right;\n",
       "    }\n",
       "</style>\n",
       "<table border=\"1\" class=\"dataframe\">\n",
       "  <thead>\n",
       "    <tr style=\"text-align: right;\">\n",
       "      <th></th>\n",
       "      <th>feature_name</th>\n",
       "      <th>feature_importance</th>\n",
       "    </tr>\n",
       "  </thead>\n",
       "  <tbody>\n",
       "    <tr>\n",
       "      <th>43</th>\n",
       "      <td>relationshipclassVec_ Husband</td>\n",
       "      <td>0.305620</td>\n",
       "    </tr>\n",
       "    <tr>\n",
       "      <th>97</th>\n",
       "      <td>capital_gain</td>\n",
       "      <td>0.161548</td>\n",
       "    </tr>\n",
       "    <tr>\n",
       "      <th>96</th>\n",
       "      <td>education_num</td>\n",
       "      <td>0.076412</td>\n",
       "    </tr>\n",
       "    <tr>\n",
       "      <th>45</th>\n",
       "      <td>relationshipclassVec_ Own-child</td>\n",
       "      <td>0.069789</td>\n",
       "    </tr>\n",
       "    <tr>\n",
       "      <th>52</th>\n",
       "      <td>sexclassVec_ Male</td>\n",
       "      <td>0.057341</td>\n",
       "    </tr>\n",
       "    <tr>\n",
       "      <th>29</th>\n",
       "      <td>occupationclassVec_ Prof-specialty</td>\n",
       "      <td>0.051258</td>\n",
       "    </tr>\n",
       "    <tr>\n",
       "      <th>98</th>\n",
       "      <td>capital_loss</td>\n",
       "      <td>0.049725</td>\n",
       "    </tr>\n",
       "    <tr>\n",
       "      <th>94</th>\n",
       "      <td>age</td>\n",
       "      <td>0.036230</td>\n",
       "    </tr>\n",
       "    <tr>\n",
       "      <th>44</th>\n",
       "      <td>relationshipclassVec_ Not-in-family</td>\n",
       "      <td>0.034008</td>\n",
       "    </tr>\n",
       "  </tbody>\n",
       "</table>\n",
       "</div>"
      ],
      "text/plain": [
       "                           feature_name  feature_importance\n",
       "43        relationshipclassVec_ Husband            0.305620\n",
       "97                         capital_gain            0.161548\n",
       "96                        education_num            0.076412\n",
       "45      relationshipclassVec_ Own-child            0.069789\n",
       "52                    sexclassVec_ Male            0.057341\n",
       "29   occupationclassVec_ Prof-specialty            0.051258\n",
       "98                         capital_loss            0.049725\n",
       "94                                  age            0.036230\n",
       "44  relationshipclassVec_ Not-in-family            0.034008"
      ]
     },
     "execution_count": 212,
     "metadata": {},
     "output_type": "execute_result"
    }
   ],
   "source": [
    "### Question 9.1 Answer ###\n",
    "\n",
    "from pyspark.ml.classification import RandomForestClassifier \n",
    "\n",
    "rf = RandomForestClassifier(featuresCol='features', labelCol='label', numTrees=10)\n",
    "\n",
    "rfModel = rf.fit(trainingData)\n",
    "\n",
    "rfFeatureImportance = rfModel.featureImportances\n",
    "\n",
    "transformed = rfModel.transform(trainingData)\n",
    "attrs = sorted((attr[\"idx\"], attr[\"name\"]) for attr in (chain(*transformed.schema[\"features\"].metadata[\"ml_attr\"][\"attrs\"].values())))\n",
    "rfFeatureImportance = pd.DataFrame([(name, rfModel.featureImportances[idx]) for idx, name in attrs], columns=['feature_name','feature_importance'])\n",
    "\n",
    "rfFeatureImportance.sort_values(by=['feature_importance'],ascending=False).head(9)\n"
   ]
  }
 ],
 "metadata": {
  "application/vnd.databricks.v1+notebook": {
   "dashboards": [],
   "environmentMetadata": null,
   "language": "python",
   "notebookMetadata": {
    "mostRecentlyExecutedCommandWithImplicitDF": {
     "commandId": 2706437001043866,
     "dataframes": [
      "_sqldf"
     ]
    },
    "pythonIndentUnit": 2
   },
   "notebookName": "spark_databricks-mini-project.ipynb",
   "widgets": {}
  },
  "kernelspec": {
   "display_name": "mlenv",
   "language": "python",
   "name": "python3"
  },
  "language_info": {
   "codemirror_mode": {
    "name": "ipython",
    "version": 3
   },
   "file_extension": ".py",
   "mimetype": "text/x-python",
   "name": "python",
   "nbconvert_exporter": "python",
   "pygments_lexer": "ipython3",
   "version": "3.12.3"
  }
 },
 "nbformat": 4,
 "nbformat_minor": 0
}
