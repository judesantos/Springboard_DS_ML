{
  "cells": [
    {
      "cell_type": "markdown",
      "source": [
        "# Introduction to Google Collab"
      ],
      "metadata": {
        "id": "jFMAuRfB1Udl"
      }
    },
    {
      "cell_type": "code",
      "source": [
        "from google.colab import drive\n",
        "drive.mount('/content/drive')"
      ],
      "metadata": {
        "colab": {
          "base_uri": "https://localhost:8080/"
        },
        "id": "ZyIXTUNzxpIM",
        "outputId": "65356325-8da1-4a3c-be8d-fe697555a442"
      },
      "execution_count": null,
      "outputs": [
        {
          "output_type": "stream",
          "name": "stdout",
          "text": [
            "Mounted at /content/drive\n"
          ]
        }
      ]
    },
    {
      "cell_type": "markdown",
      "source": [
        "## Import Libraries"
      ],
      "metadata": {
        "id": "AVxWy7I314_s"
      }
    },
    {
      "cell_type": "code",
      "source": [
        "!pip install pyspark\n",
        "!pip install findspark"
      ],
      "metadata": {
        "collapsed": true,
        "id": "pX_9oVyb58qI",
        "colab": {
          "base_uri": "https://localhost:8080/"
        },
        "outputId": "03c0eae2-105f-4f6d-e439-33f7fda89b04"
      },
      "execution_count": null,
      "outputs": [
        {
          "output_type": "stream",
          "name": "stdout",
          "text": [
            "Requirement already satisfied: pyspark in /usr/local/lib/python3.10/dist-packages (3.5.3)\n",
            "Requirement already satisfied: py4j==0.10.9.7 in /usr/local/lib/python3.10/dist-packages (from pyspark) (0.10.9.7)\n",
            "Requirement already satisfied: findspark in /usr/local/lib/python3.10/dist-packages (2.0.1)\n"
          ]
        }
      ]
    },
    {
      "cell_type": "code",
      "source": [
        "import pandas as pd\n",
        "import numpy as np"
      ],
      "metadata": {
        "id": "rmV6qbkT178M"
      },
      "execution_count": null,
      "outputs": []
    },
    {
      "cell_type": "markdown",
      "source": [
        "## Install Spark"
      ],
      "metadata": {
        "id": "BfcEIE9d2KGY"
      }
    },
    {
      "cell_type": "code",
      "source": [
        "!ls\n"
      ],
      "metadata": {
        "colab": {
          "base_uri": "https://localhost:8080/"
        },
        "id": "JihBujhf6IYy",
        "outputId": "132b1126-7cc5-48cf-d0cd-a5ee3e6c2a99"
      },
      "execution_count": null,
      "outputs": [
        {
          "output_type": "stream",
          "name": "stdout",
          "text": [
            "drive  sample_data\n"
          ]
        }
      ]
    },
    {
      "cell_type": "code",
      "source": [
        "import findspark\n",
        "from pyspark import SparkContext\n",
        "from pyspark.sql import SparkSession\n",
        "\n",
        "findspark.init()\n",
        "\n",
        "## RDD\n",
        "sc = SparkContext.getOrCreate()\n",
        "sc\n",
        "\n",
        "## DataFrame\n",
        "spark = SparkSession.builder.getOrCreate()\n",
        "spark"
      ],
      "metadata": {
        "colab": {
          "base_uri": "https://localhost:8080/",
          "height": 221
        },
        "id": "PfV7gmjx6TgH",
        "outputId": "1ead3ecd-ac7b-492d-cd62-f811dc5d5215"
      },
      "execution_count": null,
      "outputs": [
        {
          "output_type": "execute_result",
          "data": {
            "text/plain": [
              "<pyspark.sql.session.SparkSession at 0x7a1287a877f0>"
            ],
            "text/html": [
              "\n",
              "            <div>\n",
              "                <p><b>SparkSession - in-memory</b></p>\n",
              "                \n",
              "        <div>\n",
              "            <p><b>SparkContext</b></p>\n",
              "\n",
              "            <p><a href=\"http://7259302be20b:4040\">Spark UI</a></p>\n",
              "\n",
              "            <dl>\n",
              "              <dt>Version</dt>\n",
              "                <dd><code>v3.5.3</code></dd>\n",
              "              <dt>Master</dt>\n",
              "                <dd><code>local[*]</code></dd>\n",
              "              <dt>AppName</dt>\n",
              "                <dd><code>pyspark-shell</code></dd>\n",
              "            </dl>\n",
              "        </div>\n",
              "        \n",
              "            </div>\n",
              "        "
            ]
          },
          "metadata": {},
          "execution_count": 27
        }
      ]
    },
    {
      "cell_type": "markdown",
      "source": [
        "## Load Data"
      ],
      "metadata": {
        "id": "Ae1du2xkAjA5"
      }
    },
    {
      "cell_type": "code",
      "source": [
        "from pyspark.sql.functions import to_timestamp, col, lit\n",
        "\n",
        "rc = spark.read.csv('./chicago-crimes-2001-present.csv', header=True)\n",
        "rc = rc.withColumn('Date', to_timestamp(col('Date'), 'MM/dd/yyyy hh:mm:ss a'))\n",
        "\n"
      ],
      "metadata": {
        "id": "4rwUDjGcFV11"
      },
      "execution_count": null,
      "outputs": []
    },
    {
      "cell_type": "code",
      "source": [
        "rc.show(5)"
      ],
      "metadata": {
        "id": "dK_pKzqWHP2_",
        "colab": {
          "base_uri": "https://localhost:8080/"
        },
        "outputId": "ae61e6da-9c47-467e-ab73-67ff3ab390f3"
      },
      "execution_count": null,
      "outputs": [
        {
          "output_type": "stream",
          "name": "stdout",
          "text": [
            "+-------------+----------------+----+------------------+----+------------+-----------+--------------------+------+--------+----+--------+----+--------------+--------+------------+------------+----+--------------------+------------+-------------+--------+\n",
            "|           id|     case_number|Date|             block|iucr|primary_type|description|location_description|arrest|domestic|beat|district|ward|community_area|fbi_code|x_coordinate|y_coordinate|year|          updated_on|    latitude|    longitude|location|\n",
            "+-------------+----------------+----+------------------+----+------------+-----------+--------------------+------+--------+----+--------+----+--------------+--------+------------+------------+----+--------------------+------------+-------------+--------+\n",
            "|     13637238|        JH476216|NULL|   041XX W 13TH ST|0460|     BATTERY|     SIMPLE|              STREET| false|   false|1011|     010|  24|            29|     08B|     1149173|     1893724|2024|2024-10-28T15:40:...|41.864304053|-87.727866959|       \"|\n",
            "|         NULL|                |NULL|              NULL|NULL|        NULL|       NULL|                NULL|  NULL|    NULL|NULL|    NULL|NULL|          NULL|    NULL|        NULL|        NULL|NULL|                NULL|        NULL|         NULL|    NULL|\n",
            "|(41.864304053| -87.727866959)\"|NULL|              NULL|NULL|        NULL|       NULL|                NULL|  NULL|    NULL|NULL|    NULL|NULL|          NULL|    NULL|        NULL|        NULL|NULL|                NULL|        NULL|         NULL|    NULL|\n",
            "|     13638065|        JH477346|NULL|017XX N BURLING ST|0810|       THEFT|  OVER $500|              STREET| false|   false|1813|     018|   2|             7|      06|     1171022|     1911687|2024|2024-10-28T15:40:...|41.913144836|-87.647132669|       \"|\n",
            "|         NULL|                |NULL|              NULL|NULL|        NULL|       NULL|                NULL|  NULL|    NULL|NULL|    NULL|NULL|          NULL|    NULL|        NULL|        NULL|NULL|                NULL|        NULL|         NULL|    NULL|\n",
            "+-------------+----------------+----+------------------+----+------------+-----------+--------------------+------+--------+----+--------+----+--------------+--------+------------+------------+----+--------------------+------------+-------------+--------+\n",
            "only showing top 5 rows\n",
            "\n"
          ]
        }
      ]
    },
    {
      "cell_type": "code",
      "source": [
        "rc.printSchema()"
      ],
      "metadata": {
        "id": "6uQVEK7UKhSl",
        "colab": {
          "base_uri": "https://localhost:8080/"
        },
        "outputId": "a2772811-9ac6-4db9-d369-1b88e71ff1d5"
      },
      "execution_count": null,
      "outputs": [
        {
          "output_type": "stream",
          "name": "stdout",
          "text": [
            "root\n",
            " |-- id: string (nullable = true)\n",
            " |-- case_number: string (nullable = true)\n",
            " |-- Date: timestamp (nullable = true)\n",
            " |-- block: string (nullable = true)\n",
            " |-- iucr: string (nullable = true)\n",
            " |-- primary_type: string (nullable = true)\n",
            " |-- description: string (nullable = true)\n",
            " |-- location_description: string (nullable = true)\n",
            " |-- arrest: string (nullable = true)\n",
            " |-- domestic: string (nullable = true)\n",
            " |-- beat: string (nullable = true)\n",
            " |-- district: string (nullable = true)\n",
            " |-- ward: string (nullable = true)\n",
            " |-- community_area: string (nullable = true)\n",
            " |-- fbi_code: string (nullable = true)\n",
            " |-- x_coordinate: string (nullable = true)\n",
            " |-- y_coordinate: string (nullable = true)\n",
            " |-- year: string (nullable = true)\n",
            " |-- updated_on: string (nullable = true)\n",
            " |-- latitude: string (nullable = true)\n",
            " |-- longitude: string (nullable = true)\n",
            " |-- location: string (nullable = true)\n",
            "\n"
          ]
        }
      ]
    },
    {
      "cell_type": "markdown",
      "source": [
        "We can see that some of the column data type is not what we need it to be. So we,\n",
        "\n",
        "### Explicitly Set Schema Data Types"
      ],
      "metadata": {
        "id": "9zKRPcDrRFfZ"
      }
    },
    {
      "cell_type": "code",
      "source": [
        "rc.columns"
      ],
      "metadata": {
        "id": "7artFDIQLKTG",
        "colab": {
          "base_uri": "https://localhost:8080/"
        },
        "outputId": "89abd625-0da5-4473-a8a3-63a4ca7e5889"
      },
      "execution_count": null,
      "outputs": [
        {
          "output_type": "execute_result",
          "data": {
            "text/plain": [
              "['id',\n",
              " 'case_number',\n",
              " 'Date',\n",
              " 'block',\n",
              " 'iucr',\n",
              " 'primary_type',\n",
              " 'description',\n",
              " 'location_description',\n",
              " 'arrest',\n",
              " 'domestic',\n",
              " 'beat',\n",
              " 'district',\n",
              " 'ward',\n",
              " 'community_area',\n",
              " 'fbi_code',\n",
              " 'x_coordinate',\n",
              " 'y_coordinate',\n",
              " 'year',\n",
              " 'updated_on',\n",
              " 'latitude',\n",
              " 'longitude',\n",
              " 'location']"
            ]
          },
          "metadata": {},
          "execution_count": 33
        }
      ]
    },
    {
      "cell_type": "code",
      "source": [
        "from pyspark.sql.types import StructType, StructField, StringType, \\\n",
        "  TimestampType, BooleanType, DoubleType, IntegerType, DataType\n",
        "\n",
        "schema = StructType([\n",
        "  StructField('id', StringType(), True),\n",
        "  StructField('case_number', StringType(), True),\n",
        "  StructField('Date', TimestampType(), True),\n",
        "  StructField('block', StringType(), True),\n",
        "  StructField('iucr', StringType(), True),\n",
        "  StructField('primary_type', StringType(), True),\n",
        "  StructField('description', StringType(), True),\n",
        "  StructField('location_description', StringType(), True),\n",
        "  StructField('arrest', StringType(), True),\n",
        "  StructField('domestic', BooleanType(), True),\n",
        "  StructField('beat', StringType(), True),\n",
        "  StructField('district', StringType(), True),\n",
        "  StructField('ward', StringType(), True),\n",
        "  StructField('community_area', StringType(), True),\n",
        "  StructField('fbi_code', StringType(), True),\n",
        "  StructField('x_coordinate', StringType(), True),\n",
        "  StructField('y_coordinate', StringType(), True),\n",
        "  StructField('year', IntegerType(), True),\n",
        "  StructField('updated_on', StringType(), True),\n",
        "  StructField('latitude', DoubleType(), True),\n",
        "  StructField('longitude', DoubleType(), True),\n",
        "  StructField('location', StringType(), True),\n",
        "])"
      ],
      "metadata": {
        "id": "pLyXhTKzKu9i"
      },
      "execution_count": null,
      "outputs": []
    },
    {
      "cell_type": "code",
      "source": [
        "rc = spark.read.csv('./chicago-crimes-2001-present.csv', header=True, schema=schema)\n",
        "rc.printSchema()"
      ],
      "metadata": {
        "id": "tmlFd7ScOVDL",
        "colab": {
          "base_uri": "https://localhost:8080/"
        },
        "outputId": "de2e608d-76a1-4b45-a630-b61540435b37"
      },
      "execution_count": null,
      "outputs": [
        {
          "output_type": "stream",
          "name": "stdout",
          "text": [
            "root\n",
            " |-- id: string (nullable = true)\n",
            " |-- case_number: string (nullable = true)\n",
            " |-- Date: timestamp (nullable = true)\n",
            " |-- block: string (nullable = true)\n",
            " |-- iucr: string (nullable = true)\n",
            " |-- primary_type: string (nullable = true)\n",
            " |-- description: string (nullable = true)\n",
            " |-- location_description: string (nullable = true)\n",
            " |-- arrest: string (nullable = true)\n",
            " |-- domestic: boolean (nullable = true)\n",
            " |-- beat: string (nullable = true)\n",
            " |-- district: string (nullable = true)\n",
            " |-- ward: string (nullable = true)\n",
            " |-- community_area: string (nullable = true)\n",
            " |-- fbi_code: string (nullable = true)\n",
            " |-- x_coordinate: string (nullable = true)\n",
            " |-- y_coordinate: string (nullable = true)\n",
            " |-- year: integer (nullable = true)\n",
            " |-- updated_on: string (nullable = true)\n",
            " |-- latitude: double (nullable = true)\n",
            " |-- longitude: double (nullable = true)\n",
            " |-- location: string (nullable = true)\n",
            "\n"
          ]
        }
      ]
    },
    {
      "cell_type": "code",
      "source": [
        "rc.show(5)"
      ],
      "metadata": {
        "id": "4ui6v8aKRfwl",
        "colab": {
          "base_uri": "https://localhost:8080/"
        },
        "outputId": "17a0e6c6-12ad-4453-bf78-f4846d5782c9"
      },
      "execution_count": null,
      "outputs": [
        {
          "output_type": "stream",
          "name": "stdout",
          "text": [
            "+-------------+----------------+-------------------+------------------+----+------------+-----------+--------------------+------+--------+----+--------+----+--------------+--------+------------+------------+----+--------------------+------------+-------------+--------+\n",
            "|           id|     case_number|               Date|             block|iucr|primary_type|description|location_description|arrest|domestic|beat|district|ward|community_area|fbi_code|x_coordinate|y_coordinate|year|          updated_on|    latitude|    longitude|location|\n",
            "+-------------+----------------+-------------------+------------------+----+------------+-----------+--------------------+------+--------+----+--------+----+--------------+--------+------------+------------+----+--------------------+------------+-------------+--------+\n",
            "|     13637238|        JH476216|2024-10-21 00:00:00|   041XX W 13TH ST|0460|     BATTERY|     SIMPLE|              STREET| false|   false|1011|     010|  24|            29|     08B|     1149173|     1893724|2024|2024-10-28T15:40:...|41.864304053|-87.727866959|       \"|\n",
            "|         NULL|                |               NULL|              NULL|NULL|        NULL|       NULL|                NULL|  NULL|    NULL|NULL|    NULL|NULL|          NULL|    NULL|        NULL|        NULL|NULL|                NULL|        NULL|         NULL|    NULL|\n",
            "|(41.864304053| -87.727866959)\"|               NULL|              NULL|NULL|        NULL|       NULL|                NULL|  NULL|    NULL|NULL|    NULL|NULL|          NULL|    NULL|        NULL|        NULL|NULL|                NULL|        NULL|         NULL|    NULL|\n",
            "|     13638065|        JH477346|2024-10-21 00:00:00|017XX N BURLING ST|0810|       THEFT|  OVER $500|              STREET| false|   false|1813|     018|   2|             7|      06|     1171022|     1911687|2024|2024-10-28T15:40:...|41.913144836|-87.647132669|       \"|\n",
            "|         NULL|                |               NULL|              NULL|NULL|        NULL|       NULL|                NULL|  NULL|    NULL|NULL|    NULL|NULL|          NULL|    NULL|        NULL|        NULL|NULL|                NULL|        NULL|         NULL|    NULL|\n",
            "+-------------+----------------+-------------------+------------------+----+------------+-----------+--------------------+------+--------+----+--------+----+--------------+--------+------------+------------+----+--------------------+------------+-------------+--------+\n",
            "only showing top 5 rows\n",
            "\n"
          ]
        }
      ]
    },
    {
      "cell_type": "markdown",
      "source": [
        "## Working with Columns"
      ],
      "metadata": {
        "id": "KNHpvK9bR3ne"
      }
    },
    {
      "cell_type": "code",
      "source": [
        "# Show specific column using different methods:\n",
        "\n",
        "#rc.select('iucr').show(5)\n",
        "#rc.select(rc.iucr).show(5)\n",
        "#rc.select(col('iucr')).show(5)\n",
        "\n",
        "rc.select('case_number', 'Date', 'block').show(4)\n"
      ],
      "metadata": {
        "id": "mQMz5qyBR6gG",
        "colab": {
          "base_uri": "https://localhost:8080/"
        },
        "outputId": "dc3f97de-537a-4b98-b623-6ac831e0757e"
      },
      "execution_count": null,
      "outputs": [
        {
          "output_type": "stream",
          "name": "stdout",
          "text": [
            "+----------------+-------------------+------------------+\n",
            "|     case_number|               Date|             block|\n",
            "+----------------+-------------------+------------------+\n",
            "|        JH476216|2024-10-21 00:00:00|   041XX W 13TH ST|\n",
            "|                |               NULL|              NULL|\n",
            "| -87.727866959)\"|               NULL|              NULL|\n",
            "|        JH477346|2024-10-21 00:00:00|017XX N BURLING ST|\n",
            "+----------------+-------------------+------------------+\n",
            "only showing top 4 rows\n",
            "\n"
          ]
        }
      ]
    },
    {
      "cell_type": "markdown",
      "source": [
        "### Working with Rows\n",
        "\n"
      ],
      "metadata": {
        "id": "Oyv2aOCVU6XE"
      }
    },
    {
      "cell_type": "code",
      "source": [
        "# Group by date, descending, filter by dates before filter date\n",
        "rc.orderBy(['Date'], ascending=False).select(['Date', 'block']).filter(col('Date') < lit('2024-11-12')).show(5)"
      ],
      "metadata": {
        "id": "lAFogaqPYoyg",
        "colab": {
          "base_uri": "https://localhost:8080/"
        },
        "outputId": "f68ee12b-6fa6-466c-c4fa-df988a492923"
      },
      "execution_count": null,
      "outputs": [
        {
          "output_type": "stream",
          "name": "stdout",
          "text": [
            "+-------------------+--------------------+\n",
            "|               Date|               block|\n",
            "+-------------------+--------------------+\n",
            "|2024-10-21 00:00:00|     041XX W 13TH ST|\n",
            "|2024-10-21 00:00:00|  017XX N BURLING ST|\n",
            "|2024-10-21 00:00:00|067XX N GLENWOOD AVE|\n",
            "|2024-10-21 00:00:00| 044XX S PRAIRIE AVE|\n",
            "|2024-10-21 00:00:00|   079XX S TRIPP AVE|\n",
            "+-------------------+--------------------+\n",
            "only showing top 5 rows\n",
            "\n"
          ]
        }
      ]
    },
    {
      "cell_type": "code",
      "source": [
        "# Filter crimes from specific cutoff-day\n",
        "one_day = rc.filter(col('Date') < lit('2024-10-20')).filter(col('Date') > lit('2024-10-19'))\n",
        "one_day.count()\n"
      ],
      "metadata": {
        "id": "rYv7abN6UlyY",
        "colab": {
          "base_uri": "https://localhost:8080/"
        },
        "outputId": "c6b23735-a5bc-4ceb-b756-de57f36b6737"
      },
      "execution_count": null,
      "outputs": [
        {
          "output_type": "execute_result",
          "data": {
            "text/plain": [
              "249"
            ]
          },
          "metadata": {},
          "execution_count": 39
        }
      ]
    },
    {
      "cell_type": "markdown",
      "source": [
        "### RDD"
      ],
      "metadata": {
        "id": "I4iMECEceuxu"
      }
    },
    {
      "cell_type": "code",
      "source": [
        "rdd = sc.textFile('./chicago-crimes-2001-present.csv')\n",
        "header = rdd.first()"
      ],
      "metadata": {
        "id": "a_FL7o5Rewu0"
      },
      "execution_count": null,
      "outputs": []
    },
    {
      "cell_type": "code",
      "source": [
        "rows = rdd.filter(lambda l: l != header)\n",
        "rows.first()"
      ],
      "metadata": {
        "id": "76Th51ebA8kb",
        "colab": {
          "base_uri": "https://localhost:8080/",
          "height": 53
        },
        "outputId": "4d75dbb5-7f65-48f4-c726-597e3c4e2663"
      },
      "execution_count": null,
      "outputs": [
        {
          "output_type": "execute_result",
          "data": {
            "text/plain": [
              "'\"13637238\",\"JH476216\",\"2024-10-21T00:00:00.000\",\"041XX W 13TH ST\",\"0460\",\"BATTERY\",\"SIMPLE\",\"STREET\",\"false\",\"false\",\"1011\",\"010\",\"24\",\"29\",\"08B\",\"1149173\",\"1893724\",\"2024\",\"2024-10-28T15:40:58.000\",\"41.864304053\",\"-87.727866959\",\"'"
            ],
            "application/vnd.google.colaboratory.intrinsic+json": {
              "type": "string"
            }
          },
          "metadata": {},
          "execution_count": 41
        }
      ]
    },
    {
      "cell_type": "code",
      "source": [
        "rows.map(lambda l: l.split(',')).count()\n",
        "\n",
        "\n"
      ],
      "metadata": {
        "id": "yGvMNgveDZXA",
        "colab": {
          "base_uri": "https://localhost:8080/"
        },
        "outputId": "10aa3f73-4529-4a7e-a820-440c7e9baee9"
      },
      "execution_count": null,
      "outputs": [
        {
          "output_type": "execute_result",
          "data": {
            "text/plain": [
              "2976"
            ]
          },
          "metadata": {},
          "execution_count": 42
        }
      ]
    },
    {
      "cell_type": "code",
      "source": [
        "rows.map(lambda l: l.split(',')).collect()[0]"
      ],
      "metadata": {
        "colab": {
          "base_uri": "https://localhost:8080/"
        },
        "id": "v3OCKuAqEhMX",
        "outputId": "751ea513-e136-4584-f620-811ccaa8b4ea"
      },
      "execution_count": null,
      "outputs": [
        {
          "output_type": "execute_result",
          "data": {
            "text/plain": [
              "['\"13637238\"',\n",
              " '\"JH476216\"',\n",
              " '\"2024-10-21T00:00:00.000\"',\n",
              " '\"041XX W 13TH ST\"',\n",
              " '\"0460\"',\n",
              " '\"BATTERY\"',\n",
              " '\"SIMPLE\"',\n",
              " '\"STREET\"',\n",
              " '\"false\"',\n",
              " '\"false\"',\n",
              " '\"1011\"',\n",
              " '\"010\"',\n",
              " '\"24\"',\n",
              " '\"29\"',\n",
              " '\"08B\"',\n",
              " '\"1149173\"',\n",
              " '\"1893724\"',\n",
              " '\"2024\"',\n",
              " '\"2024-10-28T15:40:58.000\"',\n",
              " '\"41.864304053\"',\n",
              " '\"-87.727866959\"',\n",
              " '\"']"
            ]
          },
          "metadata": {},
          "execution_count": 43
        }
      ]
    }
  ],
  "metadata": {
    "language_info": {
      "name": "python"
    },
    "colab": {
      "provenance": []
    },
    "kernelspec": {
      "name": "python3",
      "display_name": "Python 3"
    }
  },
  "nbformat": 4,
  "nbformat_minor": 0
}