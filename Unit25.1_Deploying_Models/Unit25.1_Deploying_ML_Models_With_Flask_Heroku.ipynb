{
 "cells": [
  {
   "cell_type": "code",
   "execution_count": null,
   "metadata": {},
   "outputs": [],
   "source": [
    "from flask import Flask\n",
    "\n",
    "app = Flask(__name__)\n",
    "\n",
    "@app.route(\"\")\n",
    "def hello():\n",
    "  return \"Welcome to Machine learning model API!\"\n",
    "\n",
    "\n",
    "if __name__ == '__main__':\n",
    "  app.run(debug=True)\n",
    "  "
   ]
  }
 ],
 "metadata": {
  "kernelspec": {
   "display_name": "Python 3",
   "language": "python",
   "name": "python3"
  },
  "language_info": {
   "name": "python",
   "version": "3.12.3"
  }
 },
 "nbformat": 4,
 "nbformat_minor": 2
}
